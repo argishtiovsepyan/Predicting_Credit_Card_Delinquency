{
 "cells": [
  {
   "cell_type": "markdown",
   "id": "e720dedd-2ccb-47f9-b035-d12c0a9df765",
   "metadata": {},
   "source": [
    "## Model preambles\n",
    "\n",
    "In this notebook, Most of the models will utilize a cross-validated grid search. In the case of Adaboost and Gradient Boosting methods, we employ Randomized search to find the best fit. This approach allows the models to explore a range of potential hyperparameters and identify the optimal configuration for each model. The following section set up the specific tuning parameters for each model that will be used later in this notebook. \n",
    "\n",
    "Please ensure that the necessary functions, including `credit_approval_data_cleaner` and `n_mo_delinquency`, are imported from the `functions.py` file located in the current directory before running the models."
   ]
  },
  {
   "cell_type": "code",
   "execution_count": 254,
   "id": "7332034d-2f06-4d63-8bd5-87cf82c4e61f",
   "metadata": {},
   "outputs": [],
   "source": [
    "import numpy as np\n",
    "import pandas as pd\n",
    "import matplotlib.pyplot as plt\n",
    "\n",
    "import pickle\n",
    "\n",
    "from sklearn.preprocessing import StandardScaler, OneHotEncoder\n",
    "from sklearn.compose import ColumnTransformer\n",
    "from sklearn.pipeline import Pipeline\n",
    "from sklearn.model_selection import train_test_split, RandomizedSearchCV, GridSearchCV\n",
    "from sklearn.metrics import ConfusionMatrixDisplay, classification_report, RocCurveDisplay\n",
    "from sklearn.ensemble import AdaBoostClassifier, GradientBoostingClassifier\n",
    "from sklearn.tree import DecisionTreeClassifier\n",
    "from sklearn.svm import LinearSVC, SVC\n",
    "from sklearn.linear_model import LogisticRegression\n",
    "from sklearn.ensemble import RandomForestClassifier\n",
    "\n",
    "from tensorflow.keras.models import Sequential\n",
    "from tensorflow.keras.layers import Dense, Dropout, BatchNormalization\n",
    "from tensorflow.keras.metrics import Recall\n",
    "from tensorflow.keras.callbacks import EarlyStopping\n",
    "from tensorflow.keras.regularizers import l2"
   ]
  },
  {
   "cell_type": "code",
   "execution_count": 17,
   "id": "f87f88f1-81b0-47d8-92c8-13eaec3eb359",
   "metadata": {},
   "outputs": [
    {
     "data": {
      "text/html": [
       "<div>\n",
       "<style scoped>\n",
       "    .dataframe tbody tr th:only-of-type {\n",
       "        vertical-align: middle;\n",
       "    }\n",
       "\n",
       "    .dataframe tbody tr th {\n",
       "        vertical-align: top;\n",
       "    }\n",
       "\n",
       "    .dataframe thead th {\n",
       "        text-align: right;\n",
       "    }\n",
       "</style>\n",
       "<table border=\"1\" class=\"dataframe\">\n",
       "  <thead>\n",
       "    <tr style=\"text-align: right;\">\n",
       "      <th></th>\n",
       "      <th>id</th>\n",
       "      <th>is_delinquent</th>\n",
       "      <th>length_of_credit</th>\n",
       "      <th>number_of_delinquent_months</th>\n",
       "      <th>average_delinquency_rate</th>\n",
       "      <th>3mo_delinquency</th>\n",
       "      <th>6mo_delinquency</th>\n",
       "      <th>12mo_delinquency</th>\n",
       "      <th>flag_own_car</th>\n",
       "      <th>flag_own_realty</th>\n",
       "      <th>...</th>\n",
       "      <th>name_family_status</th>\n",
       "      <th>name_housing_type</th>\n",
       "      <th>flag_mobil</th>\n",
       "      <th>flag_work_phone</th>\n",
       "      <th>flag_phone</th>\n",
       "      <th>flag_email</th>\n",
       "      <th>occupation_type</th>\n",
       "      <th>cnt_fam_members</th>\n",
       "      <th>age</th>\n",
       "      <th>years_employed</th>\n",
       "    </tr>\n",
       "  </thead>\n",
       "  <tbody>\n",
       "    <tr>\n",
       "      <th>0</th>\n",
       "      <td>5008804</td>\n",
       "      <td>0</td>\n",
       "      <td>16</td>\n",
       "      <td>2</td>\n",
       "      <td>0.125000</td>\n",
       "      <td>0</td>\n",
       "      <td>0</td>\n",
       "      <td>0</td>\n",
       "      <td>Y</td>\n",
       "      <td>Y</td>\n",
       "      <td>...</td>\n",
       "      <td>Civil marriage</td>\n",
       "      <td>Rented apartment</td>\n",
       "      <td>1</td>\n",
       "      <td>1</td>\n",
       "      <td>0</td>\n",
       "      <td>0</td>\n",
       "      <td>missing</td>\n",
       "      <td>2.0</td>\n",
       "      <td>32</td>\n",
       "      <td>12</td>\n",
       "    </tr>\n",
       "    <tr>\n",
       "      <th>1</th>\n",
       "      <td>5008805</td>\n",
       "      <td>0</td>\n",
       "      <td>15</td>\n",
       "      <td>2</td>\n",
       "      <td>0.133333</td>\n",
       "      <td>0</td>\n",
       "      <td>0</td>\n",
       "      <td>0</td>\n",
       "      <td>Y</td>\n",
       "      <td>Y</td>\n",
       "      <td>...</td>\n",
       "      <td>Civil marriage</td>\n",
       "      <td>Rented apartment</td>\n",
       "      <td>1</td>\n",
       "      <td>1</td>\n",
       "      <td>0</td>\n",
       "      <td>0</td>\n",
       "      <td>missing</td>\n",
       "      <td>2.0</td>\n",
       "      <td>32</td>\n",
       "      <td>12</td>\n",
       "    </tr>\n",
       "    <tr>\n",
       "      <th>2</th>\n",
       "      <td>5008806</td>\n",
       "      <td>0</td>\n",
       "      <td>30</td>\n",
       "      <td>7</td>\n",
       "      <td>0.233333</td>\n",
       "      <td>0</td>\n",
       "      <td>0</td>\n",
       "      <td>1</td>\n",
       "      <td>Y</td>\n",
       "      <td>Y</td>\n",
       "      <td>...</td>\n",
       "      <td>Married</td>\n",
       "      <td>House / apartment</td>\n",
       "      <td>1</td>\n",
       "      <td>0</td>\n",
       "      <td>0</td>\n",
       "      <td>0</td>\n",
       "      <td>Security staff</td>\n",
       "      <td>2.0</td>\n",
       "      <td>58</td>\n",
       "      <td>3</td>\n",
       "    </tr>\n",
       "    <tr>\n",
       "      <th>3</th>\n",
       "      <td>5008808</td>\n",
       "      <td>1</td>\n",
       "      <td>5</td>\n",
       "      <td>2</td>\n",
       "      <td>0.400000</td>\n",
       "      <td>1</td>\n",
       "      <td>1</td>\n",
       "      <td>1</td>\n",
       "      <td>N</td>\n",
       "      <td>Y</td>\n",
       "      <td>...</td>\n",
       "      <td>Single / not married</td>\n",
       "      <td>House / apartment</td>\n",
       "      <td>1</td>\n",
       "      <td>0</td>\n",
       "      <td>1</td>\n",
       "      <td>1</td>\n",
       "      <td>Sales staff</td>\n",
       "      <td>1.0</td>\n",
       "      <td>52</td>\n",
       "      <td>8</td>\n",
       "    </tr>\n",
       "    <tr>\n",
       "      <th>4</th>\n",
       "      <td>5008809</td>\n",
       "      <td>0</td>\n",
       "      <td>5</td>\n",
       "      <td>0</td>\n",
       "      <td>0.000000</td>\n",
       "      <td>0</td>\n",
       "      <td>0</td>\n",
       "      <td>0</td>\n",
       "      <td>N</td>\n",
       "      <td>Y</td>\n",
       "      <td>...</td>\n",
       "      <td>Single / not married</td>\n",
       "      <td>House / apartment</td>\n",
       "      <td>1</td>\n",
       "      <td>0</td>\n",
       "      <td>1</td>\n",
       "      <td>1</td>\n",
       "      <td>Sales staff</td>\n",
       "      <td>1.0</td>\n",
       "      <td>52</td>\n",
       "      <td>8</td>\n",
       "    </tr>\n",
       "  </tbody>\n",
       "</table>\n",
       "<p>5 rows × 24 columns</p>\n",
       "</div>"
      ],
      "text/plain": [
       "        id  is_delinquent  length_of_credit  number_of_delinquent_months  \\\n",
       "0  5008804              0                16                            2   \n",
       "1  5008805              0                15                            2   \n",
       "2  5008806              0                30                            7   \n",
       "3  5008808              1                 5                            2   \n",
       "4  5008809              0                 5                            0   \n",
       "\n",
       "   average_delinquency_rate  3mo_delinquency  6mo_delinquency  \\\n",
       "0                  0.125000                0                0   \n",
       "1                  0.133333                0                0   \n",
       "2                  0.233333                0                0   \n",
       "3                  0.400000                1                1   \n",
       "4                  0.000000                0                0   \n",
       "\n",
       "   12mo_delinquency flag_own_car flag_own_realty  ...    name_family_status  \\\n",
       "0                 0            Y               Y  ...        Civil marriage   \n",
       "1                 0            Y               Y  ...        Civil marriage   \n",
       "2                 1            Y               Y  ...               Married   \n",
       "3                 1            N               Y  ...  Single / not married   \n",
       "4                 0            N               Y  ...  Single / not married   \n",
       "\n",
       "   name_housing_type flag_mobil flag_work_phone flag_phone flag_email  \\\n",
       "0   Rented apartment          1               1          0          0   \n",
       "1   Rented apartment          1               1          0          0   \n",
       "2  House / apartment          1               0          0          0   \n",
       "3  House / apartment          1               0          1          1   \n",
       "4  House / apartment          1               0          1          1   \n",
       "\n",
       "   occupation_type  cnt_fam_members  age  years_employed  \n",
       "0          missing              2.0   32              12  \n",
       "1          missing              2.0   32              12  \n",
       "2   Security staff              2.0   58               3  \n",
       "3      Sales staff              1.0   52               8  \n",
       "4      Sales staff              1.0   52               8  \n",
       "\n",
       "[5 rows x 24 columns]"
      ]
     },
     "execution_count": 17,
     "metadata": {},
     "output_type": "execute_result"
    }
   ],
   "source": [
    "credit = pd.read_csv('../data/train_cleaned.csv')\n",
    "credit.head()"
   ]
  },
  {
   "cell_type": "code",
   "execution_count": 18,
   "id": "281e2620-4a28-49a1-a203-bf0337abaac4",
   "metadata": {},
   "outputs": [
    {
     "data": {
      "text/plain": [
       "Index(['id', 'is_delinquent', 'length_of_credit',\n",
       "       'number_of_delinquent_months', 'average_delinquency_rate',\n",
       "       '3mo_delinquency', '6mo_delinquency', '12mo_delinquency',\n",
       "       'flag_own_car', 'flag_own_realty', 'cnt_children', 'amt_income_total',\n",
       "       'name_income_type', 'name_education_type', 'name_family_status',\n",
       "       'name_housing_type', 'flag_mobil', 'flag_work_phone', 'flag_phone',\n",
       "       'flag_email', 'occupation_type', 'cnt_fam_members', 'age',\n",
       "       'years_employed'],\n",
       "      dtype='object')"
      ]
     },
     "execution_count": 18,
     "metadata": {},
     "output_type": "execute_result"
    }
   ],
   "source": [
    "credit.columns"
   ]
  },
  {
   "cell_type": "code",
   "execution_count": 259,
   "id": "b19616c0-6744-43d6-beb7-49ed1b909326",
   "metadata": {},
   "outputs": [],
   "source": [
    "X = credit.drop(columns=[\n",
    "    'id', 'is_delinquent', 'number_of_delinquent_months', 'average_delinquency_rate', \n",
    "    '3mo_delinquency', '6mo_delinquency', '12mo_delinquency'])\n",
    "\n",
    "y_1 = credit['is_delinquent']\n",
    "y_2 = credit['3mo_delinquency']\n",
    "y_3 = credit['6mo_delinquency']\n",
    "y_4 = credit['12mo_delinquency']"
   ]
  },
  {
   "cell_type": "code",
   "execution_count": 260,
   "id": "0451da05-cdd3-4dbc-91b6-8be841d781e8",
   "metadata": {},
   "outputs": [],
   "source": [
    "cat_cols = X_train.select_dtypes(include='object').columns\n",
    "num_cols = X_train.select_dtypes(include=['int64', 'float64']).columns"
   ]
  },
  {
   "cell_type": "markdown",
   "id": "c29d3403",
   "metadata": {},
   "source": [
    "## Train-test(Validation) split"
   ]
  },
  {
   "cell_type": "code",
   "execution_count": 261,
   "id": "40d0daf9-1360-4ae5-a716-3651ceafdbc7",
   "metadata": {},
   "outputs": [],
   "source": [
    "X_train, X_val, y_train_1, y_val_1 = train_test_split(X, y_1, test_size=0.2, random_state=42)\n",
    "\n",
    "X_train, X_val, y_train_2, y_val_2 = train_test_split(X, y_2, test_size=0.2, random_state=42)\n",
    "X_train, X_val, y_train_3, y_val_3 = train_test_split(X, y_3, test_size=0.2, random_state=42)\n",
    "\n",
    "X_train, X_val, y_train_4, y_val_4 = train_test_split(X, y_4, test_size=0.2, random_state=42)"
   ]
  },
  {
   "cell_type": "markdown",
   "id": "f73f32b8-977e-40f2-80c1-a8d73c10445c",
   "metadata": {},
   "source": [
    "## One-Hot-Encoding and Standard Scaling variables with Column Transform"
   ]
  },
  {
   "cell_type": "code",
   "execution_count": 245,
   "id": "c12b222d",
   "metadata": {},
   "outputs": [],
   "source": [
    "cat_cols = X_train.select_dtypes(include='object').columns\n",
    "num_cols = X_train.select_dtypes(include=['int64', 'float64']).columns\n",
    "\n",
    "sc = StandardScaler()\n",
    "\n",
    "oh = OneHotEncoder(\n",
    "    categories='auto', \n",
    "    drop='first', \n",
    "    sparse_output=False, \n",
    "    dtype='int',\n",
    "    handle_unknown = 'ignore'\n",
    ")\n",
    "\n",
    "ct = ColumnTransformer(\n",
    "    transformers=[\n",
    "        ('oh', oh, cat_cols),\n",
    "        ('sc', sc, num_cols)\n",
    "    ]\n",
    ")\n",
    "\n",
    "X_train_ct = ct.fit_transform(X_train)\n",
    "X_val_ct = ct.transform(X_val)"
   ]
  },
  {
   "cell_type": "code",
   "execution_count": 266,
   "id": "44f0be29-9cca-496a-930e-4c837be64942",
   "metadata": {},
   "outputs": [],
   "source": [
    "with open('../data/ct.pkl', 'wb') as file:\n",
    "    pickle.dump(ct, file)"
   ]
  },
  {
   "cell_type": "markdown",
   "id": "ce9b4c66",
   "metadata": {},
   "source": [
    "## Fit and scoring function"
   ]
  },
  {
   "cell_type": "code",
   "execution_count": 40,
   "id": "5704f0c0",
   "metadata": {},
   "outputs": [],
   "source": [
    "data_sets = [(\"is_delinquent\", y_train_1, y_val_1), \n",
    "             (\"3mo_delinquency\", y_train_2, y_val_2), \n",
    "             (\"6mo_delinquency\", y_train_3, y_val_3)]\n",
    "\n",
    "def fit_and_score(gs, X_train, y_train, X_val, y_val, name):\n",
    "    print(f\"\\nPerforming grid search and scoring on dataset: {name}\\n{'-'*50}\")\n",
    "    gs.fit(X_train, y_train)\n",
    "    print(f'Training score on {name} : {gs.score(X_train, y_train)}')\n",
    "    print(f'Testing score on {name} : {gs.score(X_val, y_val)}')\n",
    "    best_params = gs.best_params_\n",
    "    print(f\"Best parameters for {name}:\", best_params)\n",
    "    return best_params\n",
    "\n",
    "\n",
    "def fit_and_score_no_param(gs, X_train, y_train, X_val, y_val, name):\n",
    "    print(f\"\\nPerforming grid search and scoring on dataset: {name}\\n{'-'*50}\")\n",
    "    gs.fit(X_train, y_train)\n",
    "    print(f'Training score on {name} : {gs.score(X_train, y_train)}')\n",
    "    print(f'Testing score on {name} : {gs.score(X_val, y_val)}')\n"
   ]
  },
  {
   "cell_type": "markdown",
   "id": "db5a5c08",
   "metadata": {},
   "source": [
    "## Target Column Distributions"
   ]
  },
  {
   "cell_type": "code",
   "execution_count": 41,
   "id": "33088b45",
   "metadata": {},
   "outputs": [
    {
     "name": "stdout",
     "output_type": "stream",
     "text": [
      "0    0.757308\n",
      "1    0.242692\n",
      "Name: is_delinquent, dtype: float64\n",
      "0    0.589633\n",
      "1    0.410367\n",
      "Name: 3mo_delinquency, dtype: float64\n",
      "0    0.526401\n",
      "1    0.473599\n",
      "Name: 6mo_delinquency, dtype: float64\n"
     ]
    }
   ],
   "source": [
    "print(credit['is_delinquent'].value_counts(normalize=True))\n",
    "print(credit['3mo_delinquency'].value_counts(normalize=True))\n",
    "print(credit['6mo_delinquency'].value_counts(normalize=True))"
   ]
  },
  {
   "cell_type": "markdown",
   "id": "e934b536",
   "metadata": {},
   "source": [
    "## Gradient Boosting with default parameters\n",
    "Predicting the classes with 3 different targets"
   ]
  },
  {
   "cell_type": "code",
   "execution_count": 48,
   "id": "162b0f9e-859a-4c29-841f-4c4ad006bdc0",
   "metadata": {},
   "outputs": [
    {
     "name": "stdout",
     "output_type": "stream",
     "text": [
      "\n",
      "Performing grid search and scoring on dataset: is_delinquent\n",
      "--------------------------------------------------\n",
      "Training score on is_delinquent : 0.778815196394076\n",
      "Testing score on is_delinquent : 0.7633612363168062\n",
      "\n",
      "Performing grid search and scoring on dataset: 3mo_delinquency\n",
      "--------------------------------------------------\n",
      "Training score on 3mo_delinquency : 0.758813586606568\n",
      "Testing score on 3mo_delinquency : 0.7546683837733419\n",
      "\n",
      "Performing grid search and scoring on dataset: 6mo_delinquency\n",
      "--------------------------------------------------\n",
      "Training score on 6mo_delinquency : 0.7706455247907277\n",
      "Testing score on 6mo_delinquency : 0.766580811332904\n"
     ]
    }
   ],
   "source": [
    "gb = GradientBoostingClassifier()\n",
    "\n",
    "for name, y_train, y_val in data_sets:\n",
    "    fit_and_score_no_param(gb, X_train_ct, y_train, X_val_ct, y_val, name)\n"
   ]
  },
  {
   "cell_type": "markdown",
   "id": "31b74c2e",
   "metadata": {},
   "source": [
    "## Gradient Boosting with GridSearchCV"
   ]
  },
  {
   "cell_type": "code",
   "execution_count": 242,
   "id": "7729cb9d-fd71-403b-a7ba-8b66851d88bf",
   "metadata": {},
   "outputs": [
    {
     "name": "stdout",
     "output_type": "stream",
     "text": [
      "0.9772215067611075\n",
      "0.7905666452028333\n"
     ]
    }
   ],
   "source": [
    "pgrids_gb = {\n",
    "    'learning_rate': [.15, .175, 0.2],\n",
    "    'n_estimators': [285, 290, 295],\n",
    "    'max_depth': [8, 9, 10]\n",
    "}\n",
    "    \n",
    "gb = GradientBoostingClassifier()\n",
    "rs_gb = RandomizedSearchCV(gb, param_distributions=pgrids_gb, cv=5)\n",
    "rs_gb.fit(X_train_ct, y_train_3)\n",
    "\n",
    "\n",
    "print(rs_gb.score(X_train_ct, y_train_3))\n",
    "print(rs_gb.score(X_val_ct, y_val_3)) \n",
    "\n",
    "\n",
    "# for name, y_train, y_val in data_sets:\n",
    "#     fit_and_score_no_param(gs, X_train_ct, y_train, X_val_ct, y_val, name)"
   ]
  },
  {
   "cell_type": "markdown",
   "id": "5082b9a2",
   "metadata": {},
   "source": [
    "## Ada Boost with GridSearchCV"
   ]
  },
  {
   "cell_type": "code",
   "execution_count": 238,
   "id": "c641202a-d3e8-46ae-b730-d382d6e4440a",
   "metadata": {},
   "outputs": [
    {
     "name": "stdout",
     "output_type": "stream",
     "text": [
      "0.9087652929813265\n",
      "0.7933032839665164\n",
      "CPU times: user 4min 33s, sys: 5.55 s, total: 4min 39s\n",
      "Wall time: 4min 43s\n"
     ]
    }
   ],
   "source": [
    "%%time\n",
    "tree = DecisionTreeClassifier(random_state=123)\n",
    "ada = AdaBoostClassifier(estimator=tree, random_state=42)\n",
    "\n",
    "pgrids_ada = {\n",
    "    'learning_rate': [2.25, 2.5, 2.7],\n",
    "    'n_estimators': [250, 300, 350],\n",
    "    'estimator__max_depth': [71, 81, 91, 101, None],\n",
    "    'estimator__min_samples_leaf': [7, 8, 9],\n",
    "    'estimator__max_features': ['auto', 'sqrt', 'log2']\n",
    "}\n",
    "\n",
    "\n",
    "rs_ada = RandomizedSearchCV(ada, param_distributions=pgrids_ada, cv=5)\n",
    "rs_ada.fit(X_train_ct, y_train_3)\n",
    "\n",
    "print(rs_ada.score(X_train_ct, y_train_3))\n",
    "print(rs_ada.score(X_val_ct, y_val_3))  "
   ]
  },
  {
   "cell_type": "code",
   "execution_count": 243,
   "id": "72cd2bda-9f56-4f39-a578-d5112de3dd2b",
   "metadata": {},
   "outputs": [
    {
     "data": {
      "text/plain": [
       "{'n_estimators': 300,\n",
       " 'learning_rate': 2.25,\n",
       " 'estimator__min_samples_leaf': 7,\n",
       " 'estimator__max_features': 'auto',\n",
       " 'estimator__max_depth': None}"
      ]
     },
     "execution_count": 243,
     "metadata": {},
     "output_type": "execute_result"
    }
   ],
   "source": [
    "rs_ada.best_params_"
   ]
  },
  {
   "cell_type": "markdown",
   "id": "adb19ecb",
   "metadata": {},
   "source": [
    "\n",
    "## Support Vector Classifier"
   ]
  },
  {
   "cell_type": "code",
   "execution_count": 42,
   "id": "8b84dab0",
   "metadata": {},
   "outputs": [
    {
     "name": "stdout",
     "output_type": "stream",
     "text": [
      "\n",
      "Performing grid search and scoring on dataset: is_delinquent\n",
      "--------------------------------------------------\n",
      "Training score on is_delinquent : 0.7627978106889891\n",
      "Testing score on is_delinquent : 0.7548293625241468\n",
      "\n",
      "Performing grid search and scoring on dataset: 3mo_delinquency\n",
      "--------------------------------------------------\n",
      "Training score on 3mo_delinquency : 0.7787749517063748\n",
      "Testing score on 3mo_delinquency : 0.7598197037990985\n",
      "\n",
      "Performing grid search and scoring on dataset: 6mo_delinquency\n",
      "--------------------------------------------------\n",
      "Training score on 6mo_delinquency : 0.788554410817772\n",
      "Testing score on 6mo_delinquency : 0.7670637475853187\n"
     ]
    }
   ],
   "source": [
    "svc = SVC(C=1, kernel='rbf', degree = 1)\n",
    "\n",
    "for name, y_train, y_val in data_sets:\n",
    "    fit_and_score_no_param(svc, X_train_ct, y_train, X_val_ct, y_val, name)"
   ]
  },
  {
   "cell_type": "markdown",
   "id": "5c17e470",
   "metadata": {},
   "source": [
    "## Logistic Regression"
   ]
  },
  {
   "cell_type": "code",
   "execution_count": 45,
   "id": "76230913",
   "metadata": {},
   "outputs": [
    {
     "name": "stdout",
     "output_type": "stream",
     "text": [
      "\n",
      "Performing grid search and scoring on dataset: is_delinquent\n",
      "--------------------------------------------------\n",
      "Training score on is_delinquent : 0.7627575660012879\n",
      "Testing score on is_delinquent : 0.754507405022537\n",
      "Best parameters for is_delinquent: {'C': 10.0, 'max_iter': 500, 'penalty': 'l2', 'solver': 'lbfgs'}\n",
      "\n",
      "Performing grid search and scoring on dataset: 3mo_delinquency\n",
      "--------------------------------------------------\n",
      "Training score on 3mo_delinquency : 0.749637797810689\n",
      "Testing score on 3mo_delinquency : 0.7435608499678042\n",
      "Best parameters for 3mo_delinquency: {'C': 10.0, 'max_iter': 500, 'penalty': 'l2', 'solver': 'lbfgs'}\n",
      "\n",
      "Performing grid search and scoring on dataset: 6mo_delinquency\n",
      "--------------------------------------------------\n",
      "Training score on 6mo_delinquency : 0.7563184159690921\n",
      "Testing score on 6mo_delinquency : 0.7549903412749517\n",
      "Best parameters for 6mo_delinquency: {'C': 1.0, 'max_iter': 500, 'penalty': 'l2', 'solver': 'lbfgs'}\n"
     ]
    }
   ],
   "source": [
    "param_grid = {\n",
    "    'C':  np.linspace(1, 10,5),\n",
    "    'penalty': ['l2'],\n",
    "    'solver': ['lbfgs'],\n",
    "    'max_iter': [500,1000]\n",
    "    \n",
    "}\n",
    "\n",
    "gs = GridSearchCV(\n",
    "estimator= LogisticRegression(),\n",
    "param_grid=param_grid)\n",
    "\n",
    "\n",
    "for name, y_train, y_val in data_sets:\n",
    "    fit_and_score(gs, X_train_ct, y_train, X_val_ct, y_val, name)"
   ]
  },
  {
   "cell_type": "markdown",
   "id": "4894d4b1",
   "metadata": {},
   "source": [
    "## Random Forest"
   ]
  },
  {
   "cell_type": "code",
   "execution_count": 47,
   "id": "69b25169",
   "metadata": {},
   "outputs": [
    {
     "name": "stdout",
     "output_type": "stream",
     "text": [
      "\n",
      "Performing grid search and scoring on dataset: is_delinquent\n",
      "--------------------------------------------------\n",
      "Training score on is_delinquent : 0.8654217643271088\n",
      "Testing score on is_delinquent : 0.7867031551835157\n",
      "Best parameters for is_delinquent: {'max_depth': None, 'max_features': 'sqrt', 'min_samples_leaf': 3, 'min_samples_split': 8, 'n_estimators': 400}\n",
      "\n",
      "Performing grid search and scoring on dataset: 3mo_delinquency\n",
      "--------------------------------------------------\n",
      "Training score on 3mo_delinquency : 0.8577350289761752\n",
      "Testing score on 3mo_delinquency : 0.7916934964584674\n",
      "Best parameters for 3mo_delinquency: {'max_depth': None, 'max_features': 'sqrt', 'min_samples_leaf': 3, 'min_samples_split': 5, 'n_estimators': 300}\n",
      "\n",
      "Performing grid search and scoring on dataset: 6mo_delinquency\n",
      "--------------------------------------------------\n",
      "Training score on 6mo_delinquency : 0.8578557630392788\n",
      "Testing score on 6mo_delinquency : 0.7915325177076626\n",
      "Best parameters for 6mo_delinquency: {'max_depth': None, 'max_features': 'sqrt', 'min_samples_leaf': 3, 'min_samples_split': 5, 'n_estimators': 400}\n"
     ]
    }
   ],
   "source": [
    "param_grid = {\n",
    "    'n_estimators': [300,400],\n",
    "    'max_depth': [None],\n",
    "    'min_samples_split': [5,8],\n",
    "    'min_samples_leaf': [3, 4],\n",
    "    'max_features': ['sqrt']\n",
    "}\n",
    "\n",
    "rf = RandomForestClassifier()\n",
    "\n",
    "gs = GridSearchCV(estimator=rf, param_grid=param_grid)\n",
    "\n",
    "for name, y_train, y_val in data_sets:\n",
    "    fit_and_score(gs, X_train_ct, y_train, X_val_ct, y_val, name)"
   ]
  },
  {
   "cell_type": "markdown",
   "id": "7c1b94d9-8478-4ecb-ba9d-f891a3a6ee71",
   "metadata": {},
   "source": [
    "## Dense Neural Network"
   ]
  },
  {
   "cell_type": "code",
   "execution_count": 234,
   "id": "7965844d-db1a-4718-80df-7231f21fa611",
   "metadata": {},
   "outputs": [],
   "source": [
    "def dnn(X_train, y_train, X_val, y_val):\n",
    "\n",
    "    model = Sequential()\n",
    "    model.add(Dense(256, input_dim=X_train_ct.shape[1], activation='relu'))\n",
    "    model.add(Dense(128, activation='relu'))\n",
    "    model.add(Dense(64, activation='relu'))\n",
    "    model.add(Dense(32, activation='relu'))\n",
    "    model.add(Dense(1, activation='sigmoid'))\n",
    "\n",
    "    model.compile(loss='binary_crossentropy', \n",
    "                  optimizer='adam', \n",
    "                  metrics=['accuracy'])\n",
    "\n",
    "    es = EarlyStopping(monitor='val_loss', patience=5, restore_best_weights=True)\n",
    "\n",
    "    model.fit(\n",
    "    X_train_ct, \n",
    "    y_train_1, \n",
    "    epochs=50, \n",
    "    batch_size=32, \n",
    "    validation_data=(X_val, y_val),\n",
    "    callbacks = es\n",
    "    )\n",
    "\n",
    "    return model"
   ]
  },
  {
   "cell_type": "code",
   "execution_count": 5,
   "id": "f7993f4c-4def-46be-99fa-e94c27556983",
   "metadata": {},
   "outputs": [],
   "source": [
    "# Model did worse with dropouts, l2 regularizer\n",
    "# Performed similar with extra hidden layers"
   ]
  },
  {
   "cell_type": "code",
   "execution_count": 235,
   "id": "e537e530-de50-4d43-844d-17fd113de923",
   "metadata": {},
   "outputs": [
    {
     "name": "stdout",
     "output_type": "stream",
     "text": [
      "Epoch 1/50\n",
      "777/777 [==============================] - 1s 1ms/step - loss: 0.4994 - accuracy: 0.7598 - val_loss: 0.5013 - val_accuracy: 0.7492\n",
      "Epoch 2/50\n",
      "777/777 [==============================] - 1s 795us/step - loss: 0.4851 - accuracy: 0.7642 - val_loss: 0.4998 - val_accuracy: 0.7531\n",
      "Epoch 3/50\n",
      "777/777 [==============================] - 1s 793us/step - loss: 0.4809 - accuracy: 0.7691 - val_loss: 0.4921 - val_accuracy: 0.7600\n",
      "Epoch 4/50\n",
      "777/777 [==============================] - 1s 788us/step - loss: 0.4758 - accuracy: 0.7721 - val_loss: 0.4881 - val_accuracy: 0.7595\n",
      "Epoch 5/50\n",
      "777/777 [==============================] - 1s 759us/step - loss: 0.4686 - accuracy: 0.7759 - val_loss: 0.4978 - val_accuracy: 0.7614\n",
      "Epoch 6/50\n",
      "777/777 [==============================] - 1s 741us/step - loss: 0.4612 - accuracy: 0.7818 - val_loss: 0.4851 - val_accuracy: 0.7611\n",
      "Epoch 7/50\n",
      "777/777 [==============================] - 1s 744us/step - loss: 0.4534 - accuracy: 0.7879 - val_loss: 0.4910 - val_accuracy: 0.7540\n",
      "Epoch 8/50\n",
      "777/777 [==============================] - 1s 724us/step - loss: 0.4439 - accuracy: 0.7920 - val_loss: 0.5001 - val_accuracy: 0.7685\n",
      "Epoch 9/50\n",
      "777/777 [==============================] - 1s 740us/step - loss: 0.4344 - accuracy: 0.7980 - val_loss: 0.4952 - val_accuracy: 0.7701\n",
      "Epoch 10/50\n",
      "777/777 [==============================] - 1s 732us/step - loss: 0.4244 - accuracy: 0.8029 - val_loss: 0.4899 - val_accuracy: 0.7679\n",
      "Epoch 11/50\n",
      "777/777 [==============================] - 1s 833us/step - loss: 0.4130 - accuracy: 0.8065 - val_loss: 0.4893 - val_accuracy: 0.7690\n"
     ]
    }
   ],
   "source": [
    "is_delinq = dnn(X_train_ct, y_train_1, X_val_ct, y_val_1)"
   ]
  },
  {
   "cell_type": "code",
   "execution_count": 236,
   "id": "0d7cc7a3-d601-4356-ae30-ee13cc3080dd",
   "metadata": {},
   "outputs": [
    {
     "name": "stdout",
     "output_type": "stream",
     "text": [
      "Epoch 1/50\n",
      "777/777 [==============================] - 1s 860us/step - loss: 0.4981 - accuracy: 0.7571 - val_loss: 0.6049 - val_accuracy: 0.6363\n",
      "Epoch 2/50\n",
      "777/777 [==============================] - 1s 840us/step - loss: 0.4842 - accuracy: 0.7682 - val_loss: 0.6308 - val_accuracy: 0.6046\n",
      "Epoch 3/50\n",
      "777/777 [==============================] - 1s 806us/step - loss: 0.4802 - accuracy: 0.7702 - val_loss: 0.6193 - val_accuracy: 0.6359\n",
      "Epoch 4/50\n",
      "777/777 [==============================] - 1s 722us/step - loss: 0.4748 - accuracy: 0.7739 - val_loss: 0.6311 - val_accuracy: 0.6566\n",
      "Epoch 5/50\n",
      "777/777 [==============================] - 1s 827us/step - loss: 0.4695 - accuracy: 0.7786 - val_loss: 0.6407 - val_accuracy: 0.6494\n",
      "Epoch 6/50\n",
      "777/777 [==============================] - 1s 805us/step - loss: 0.4623 - accuracy: 0.7820 - val_loss: 0.6428 - val_accuracy: 0.6592\n"
     ]
    }
   ],
   "source": [
    "three_month_delinq = dnn(X_train_ct, y_train_2, X_val_ct, y_val_2)"
   ]
  },
  {
   "cell_type": "code",
   "execution_count": 237,
   "id": "edd5f70b-ef8c-4c2c-9dcb-f02bdd50a793",
   "metadata": {},
   "outputs": [
    {
     "name": "stdout",
     "output_type": "stream",
     "text": [
      "Epoch 1/50\n",
      "777/777 [==============================] - 1s 899us/step - loss: 0.4963 - accuracy: 0.7582 - val_loss: 0.6309 - val_accuracy: 0.6037\n",
      "Epoch 2/50\n",
      "777/777 [==============================] - 1s 800us/step - loss: 0.4853 - accuracy: 0.7648 - val_loss: 0.6697 - val_accuracy: 0.6270\n",
      "Epoch 3/50\n",
      "777/777 [==============================] - 1s 751us/step - loss: 0.4793 - accuracy: 0.7704 - val_loss: 0.7395 - val_accuracy: 0.5612\n",
      "Epoch 4/50\n",
      "777/777 [==============================] - 1s 791us/step - loss: 0.4750 - accuracy: 0.7735 - val_loss: 0.6773 - val_accuracy: 0.5705\n",
      "Epoch 5/50\n",
      "777/777 [==============================] - 1s 799us/step - loss: 0.4686 - accuracy: 0.7772 - val_loss: 0.7101 - val_accuracy: 0.6415\n",
      "Epoch 6/50\n",
      "777/777 [==============================] - 1s 778us/step - loss: 0.4621 - accuracy: 0.7811 - val_loss: 0.6983 - val_accuracy: 0.6333\n"
     ]
    }
   ],
   "source": [
    "six_month_delinq = dnn(X_train_ct, y_train_3, X_val_ct, y_val_3)"
   ]
  },
  {
   "cell_type": "markdown",
   "id": "5e5fefee-5b39-4568-a2b9-215a01d64b45",
   "metadata": {},
   "source": [
    "### Fitting AdaBoost on the full training sample"
   ]
  },
  {
   "cell_type": "code",
   "execution_count": 263,
   "id": "195e624d-91c2-4cf6-9384-85a65ab54b81",
   "metadata": {},
   "outputs": [
    {
     "name": "stdout",
     "output_type": "stream",
     "text": [
      "0.9714745653573729\n"
     ]
    }
   ],
   "source": [
    "X_ct = ct.transform(X)\n",
    "\n",
    "tree = DecisionTreeClassifier(random_state=123, \n",
    "                              max_depth=None, \n",
    "                              min_samples_split=7, \n",
    "                              max_features='auto')\n",
    "\n",
    "ada = AdaBoostClassifier(estimator=tree, \n",
    "                         random_state=42, \n",
    "                         learning_rate=2.25, \n",
    "                         n_estimators=300)\n",
    "\n",
    "ada.fit(X_ct, y_3)\n",
    "\n",
    "print(ada.score(X_ct, y_3))"
   ]
  },
  {
   "cell_type": "code",
   "execution_count": 264,
   "id": "24a3c1e1-21ff-4eae-a4b7-981ff29916cd",
   "metadata": {},
   "outputs": [],
   "source": [
    "with open('../data/adaboost_model.pkl', 'wb') as file:\n",
    "    pickle.dump(ada, file)"
   ]
  }
 ],
 "metadata": {
  "kernelspec": {
   "display_name": "Python 3 (ipykernel)",
   "language": "python",
   "name": "python3"
  },
  "language_info": {
   "codemirror_mode": {
    "name": "ipython",
    "version": 3
   },
   "file_extension": ".py",
   "mimetype": "text/x-python",
   "name": "python",
   "nbconvert_exporter": "python",
   "pygments_lexer": "ipython3",
   "version": "3.10.9"
  }
 },
 "nbformat": 4,
 "nbformat_minor": 5
}

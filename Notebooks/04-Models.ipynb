{
 "cells": [
  {
   "cell_type": "code",
   "execution_count": 57,
   "id": "7332034d-2f06-4d63-8bd5-87cf82c4e61f",
   "metadata": {},
   "outputs": [],
   "source": [
    "import numpy as np\n",
    "import pandas as pd\n",
    "import matplotlib.pyplot as plt\n",
    "\n",
    "from sklearn.preprocessing import StandardScaler, OneHotEncoder\n",
    "from sklearn.compose import ColumnTransformer\n",
    "from sklearn.pipeline import Pipeline\n",
    "from sklearn.model_selection import train_test_split, RandomizedSearchCV, GridSearchCV\n",
    "from sklearn.metrics import ConfusionMatrixDisplay, classification_report, RocCurveDisplay\n",
    "from sklearn.ensemble import AdaBoostClassifier, GradientBoostingClassifier\n",
    "from sklearn.tree import DecisionTreeClassifier"
   ]
  },
  {
   "cell_type": "code",
   "execution_count": 4,
   "id": "f87f88f1-81b0-47d8-92c8-13eaec3eb359",
   "metadata": {},
   "outputs": [
    {
     "data": {
      "text/html": [
       "<div>\n",
       "<style scoped>\n",
       "    .dataframe tbody tr th:only-of-type {\n",
       "        vertical-align: middle;\n",
       "    }\n",
       "\n",
       "    .dataframe tbody tr th {\n",
       "        vertical-align: top;\n",
       "    }\n",
       "\n",
       "    .dataframe thead th {\n",
       "        text-align: right;\n",
       "    }\n",
       "</style>\n",
       "<table border=\"1\" class=\"dataframe\">\n",
       "  <thead>\n",
       "    <tr style=\"text-align: right;\">\n",
       "      <th></th>\n",
       "      <th>ID</th>\n",
       "      <th>is_delinquent</th>\n",
       "      <th>length_of_credit</th>\n",
       "      <th>number_of_delinquent_months</th>\n",
       "      <th>average_delinquency_rate</th>\n",
       "      <th>3mo_delinquency</th>\n",
       "      <th>6mo_delinquency</th>\n",
       "      <th>12mo_delinquency</th>\n",
       "      <th>FLAG_OWN_CAR</th>\n",
       "      <th>FLAG_OWN_REALTY</th>\n",
       "      <th>...</th>\n",
       "      <th>NAME_FAMILY_STATUS</th>\n",
       "      <th>NAME_HOUSING_TYPE</th>\n",
       "      <th>FLAG_MOBIL</th>\n",
       "      <th>FLAG_WORK_PHONE</th>\n",
       "      <th>FLAG_PHONE</th>\n",
       "      <th>FLAG_EMAIL</th>\n",
       "      <th>OCCUPATION_TYPE</th>\n",
       "      <th>CNT_FAM_MEMBERS</th>\n",
       "      <th>AGE</th>\n",
       "      <th>YEARS_EMPLOYED</th>\n",
       "    </tr>\n",
       "  </thead>\n",
       "  <tbody>\n",
       "    <tr>\n",
       "      <th>0</th>\n",
       "      <td>5008804</td>\n",
       "      <td>0</td>\n",
       "      <td>16</td>\n",
       "      <td>2</td>\n",
       "      <td>0.125000</td>\n",
       "      <td>0</td>\n",
       "      <td>0</td>\n",
       "      <td>0</td>\n",
       "      <td>Y</td>\n",
       "      <td>Y</td>\n",
       "      <td>...</td>\n",
       "      <td>Civil marriage</td>\n",
       "      <td>Rented apartment</td>\n",
       "      <td>1</td>\n",
       "      <td>1</td>\n",
       "      <td>0</td>\n",
       "      <td>0</td>\n",
       "      <td>missing</td>\n",
       "      <td>2.0</td>\n",
       "      <td>32</td>\n",
       "      <td>12</td>\n",
       "    </tr>\n",
       "    <tr>\n",
       "      <th>1</th>\n",
       "      <td>5008805</td>\n",
       "      <td>0</td>\n",
       "      <td>15</td>\n",
       "      <td>2</td>\n",
       "      <td>0.133333</td>\n",
       "      <td>0</td>\n",
       "      <td>0</td>\n",
       "      <td>0</td>\n",
       "      <td>Y</td>\n",
       "      <td>Y</td>\n",
       "      <td>...</td>\n",
       "      <td>Civil marriage</td>\n",
       "      <td>Rented apartment</td>\n",
       "      <td>1</td>\n",
       "      <td>1</td>\n",
       "      <td>0</td>\n",
       "      <td>0</td>\n",
       "      <td>missing</td>\n",
       "      <td>2.0</td>\n",
       "      <td>32</td>\n",
       "      <td>12</td>\n",
       "    </tr>\n",
       "    <tr>\n",
       "      <th>2</th>\n",
       "      <td>5008806</td>\n",
       "      <td>0</td>\n",
       "      <td>30</td>\n",
       "      <td>7</td>\n",
       "      <td>0.233333</td>\n",
       "      <td>0</td>\n",
       "      <td>0</td>\n",
       "      <td>1</td>\n",
       "      <td>Y</td>\n",
       "      <td>Y</td>\n",
       "      <td>...</td>\n",
       "      <td>Married</td>\n",
       "      <td>House / apartment</td>\n",
       "      <td>1</td>\n",
       "      <td>0</td>\n",
       "      <td>0</td>\n",
       "      <td>0</td>\n",
       "      <td>Security staff</td>\n",
       "      <td>2.0</td>\n",
       "      <td>58</td>\n",
       "      <td>3</td>\n",
       "    </tr>\n",
       "    <tr>\n",
       "      <th>3</th>\n",
       "      <td>5008808</td>\n",
       "      <td>1</td>\n",
       "      <td>5</td>\n",
       "      <td>2</td>\n",
       "      <td>0.400000</td>\n",
       "      <td>1</td>\n",
       "      <td>1</td>\n",
       "      <td>1</td>\n",
       "      <td>N</td>\n",
       "      <td>Y</td>\n",
       "      <td>...</td>\n",
       "      <td>Single / not married</td>\n",
       "      <td>House / apartment</td>\n",
       "      <td>1</td>\n",
       "      <td>0</td>\n",
       "      <td>1</td>\n",
       "      <td>1</td>\n",
       "      <td>Sales staff</td>\n",
       "      <td>1.0</td>\n",
       "      <td>52</td>\n",
       "      <td>8</td>\n",
       "    </tr>\n",
       "    <tr>\n",
       "      <th>4</th>\n",
       "      <td>5008809</td>\n",
       "      <td>0</td>\n",
       "      <td>5</td>\n",
       "      <td>0</td>\n",
       "      <td>0.000000</td>\n",
       "      <td>0</td>\n",
       "      <td>0</td>\n",
       "      <td>0</td>\n",
       "      <td>N</td>\n",
       "      <td>Y</td>\n",
       "      <td>...</td>\n",
       "      <td>Single / not married</td>\n",
       "      <td>House / apartment</td>\n",
       "      <td>1</td>\n",
       "      <td>0</td>\n",
       "      <td>1</td>\n",
       "      <td>1</td>\n",
       "      <td>Sales staff</td>\n",
       "      <td>1.0</td>\n",
       "      <td>52</td>\n",
       "      <td>8</td>\n",
       "    </tr>\n",
       "  </tbody>\n",
       "</table>\n",
       "<p>5 rows × 24 columns</p>\n",
       "</div>"
      ],
      "text/plain": [
       "        ID  is_delinquent  length_of_credit  number_of_delinquent_months  \\\n",
       "0  5008804              0                16                            2   \n",
       "1  5008805              0                15                            2   \n",
       "2  5008806              0                30                            7   \n",
       "3  5008808              1                 5                            2   \n",
       "4  5008809              0                 5                            0   \n",
       "\n",
       "   average_delinquency_rate  3mo_delinquency  6mo_delinquency  \\\n",
       "0                  0.125000                0                0   \n",
       "1                  0.133333                0                0   \n",
       "2                  0.233333                0                0   \n",
       "3                  0.400000                1                1   \n",
       "4                  0.000000                0                0   \n",
       "\n",
       "   12mo_delinquency FLAG_OWN_CAR FLAG_OWN_REALTY  ...    NAME_FAMILY_STATUS  \\\n",
       "0                 0            Y               Y  ...        Civil marriage   \n",
       "1                 0            Y               Y  ...        Civil marriage   \n",
       "2                 1            Y               Y  ...               Married   \n",
       "3                 1            N               Y  ...  Single / not married   \n",
       "4                 0            N               Y  ...  Single / not married   \n",
       "\n",
       "   NAME_HOUSING_TYPE FLAG_MOBIL FLAG_WORK_PHONE FLAG_PHONE FLAG_EMAIL  \\\n",
       "0   Rented apartment          1               1          0          0   \n",
       "1   Rented apartment          1               1          0          0   \n",
       "2  House / apartment          1               0          0          0   \n",
       "3  House / apartment          1               0          1          1   \n",
       "4  House / apartment          1               0          1          1   \n",
       "\n",
       "   OCCUPATION_TYPE  CNT_FAM_MEMBERS  AGE  YEARS_EMPLOYED  \n",
       "0          missing              2.0   32              12  \n",
       "1          missing              2.0   32              12  \n",
       "2   Security staff              2.0   58               3  \n",
       "3      Sales staff              1.0   52               8  \n",
       "4      Sales staff              1.0   52               8  \n",
       "\n",
       "[5 rows x 24 columns]"
      ]
     },
     "execution_count": 4,
     "metadata": {},
     "output_type": "execute_result"
    }
   ],
   "source": [
    "credit = pd.read_csv('../data/train_cleaned.csv')\n",
    "credit.head()"
   ]
  },
  {
   "cell_type": "code",
   "execution_count": 5,
   "id": "281e2620-4a28-49a1-a203-bf0337abaac4",
   "metadata": {},
   "outputs": [
    {
     "data": {
      "text/plain": [
       "Index(['ID', 'is_delinquent', 'length_of_credit',\n",
       "       'number_of_delinquent_months', 'average_delinquency_rate',\n",
       "       '3mo_delinquency', '6mo_delinquency', '12mo_delinquency',\n",
       "       'FLAG_OWN_CAR', 'FLAG_OWN_REALTY', 'CNT_CHILDREN', 'AMT_INCOME_TOTAL',\n",
       "       'NAME_INCOME_TYPE', 'NAME_EDUCATION_TYPE', 'NAME_FAMILY_STATUS',\n",
       "       'NAME_HOUSING_TYPE', 'FLAG_MOBIL', 'FLAG_WORK_PHONE', 'FLAG_PHONE',\n",
       "       'FLAG_EMAIL', 'OCCUPATION_TYPE', 'CNT_FAM_MEMBERS', 'AGE',\n",
       "       'YEARS_EMPLOYED'],\n",
       "      dtype='object')"
      ]
     },
     "execution_count": 5,
     "metadata": {},
     "output_type": "execute_result"
    }
   ],
   "source": [
    "credit.columns"
   ]
  },
  {
   "cell_type": "code",
   "execution_count": 11,
   "id": "3d6f9cad-991e-40a6-a1e7-97436ddad802",
   "metadata": {},
   "outputs": [
    {
     "data": {
      "text/plain": [
       "Index(['id', 'is_delinquent', 'length_of_credit',\n",
       "       'number_of_delinquent_months', 'average_delinquency_rate',\n",
       "       '3mo_delinquency', '6mo_delinquency', '12mo_delinquency',\n",
       "       'flag_own_car', 'flag_own_realty', 'cnt_children', 'amt_income_total',\n",
       "       'name_income_type', 'name_education_type', 'name_family_status',\n",
       "       'name_housing_type', 'flag_mobil', 'flag_work_phone', 'flag_phone',\n",
       "       'flag_email', 'occupation_type', 'cnt_fam_members', 'age',\n",
       "       'years_employed'],\n",
       "      dtype='object')"
      ]
     },
     "execution_count": 11,
     "metadata": {},
     "output_type": "execute_result"
    }
   ],
   "source": [
    "credit.columns = credit.columns.str.lower()\n",
    "credit.columns"
   ]
  },
  {
   "cell_type": "code",
   "execution_count": 14,
   "id": "b19616c0-6744-43d6-beb7-49ed1b909326",
   "metadata": {},
   "outputs": [],
   "source": [
    "X = credit.drop(columns=[\n",
    "    'id', 'is_delinquent', 'number_of_delinquent_months', 'average_delinquency_rate', \n",
    "    '3mo_delinquency', '6mo_delinquency', '12mo_delinquency'])\n",
    "\n",
    "y = credit['is_delinquent']"
   ]
  },
  {
   "cell_type": "code",
   "execution_count": 15,
   "id": "2917da31-3eb2-4b49-b53e-417af7ee6900",
   "metadata": {},
   "outputs": [],
   "source": [
    "X_train, X_val, y_train, y_val = train_test_split(X, y, test_size=0.2, random_state=42)"
   ]
  },
  {
   "cell_type": "code",
   "execution_count": 17,
   "id": "a04a25a8-d2c0-4fbe-b4ec-b13b6b0c9c08",
   "metadata": {},
   "outputs": [
    {
     "data": {
      "text/plain": [
       "length_of_credit         int64\n",
       "flag_own_car            object\n",
       "flag_own_realty         object\n",
       "cnt_children             int64\n",
       "amt_income_total       float64\n",
       "name_income_type        object\n",
       "name_education_type     object\n",
       "name_family_status      object\n",
       "name_housing_type       object\n",
       "flag_mobil               int64\n",
       "flag_work_phone          int64\n",
       "flag_phone               int64\n",
       "flag_email               int64\n",
       "occupation_type         object\n",
       "cnt_fam_members        float64\n",
       "age                      int64\n",
       "years_employed           int64\n",
       "dtype: object"
      ]
     },
     "execution_count": 17,
     "metadata": {},
     "output_type": "execute_result"
    }
   ],
   "source": [
    "X_train.dtypes"
   ]
  },
  {
   "cell_type": "code",
   "execution_count": 20,
   "id": "0451da05-cdd3-4dbc-91b6-8be841d781e8",
   "metadata": {},
   "outputs": [],
   "source": [
    "cat_cols = X_train.select_dtypes(include='object').columns\n",
    "num_cols = X_train.select_dtypes(include=['int64', 'float64']).columns"
   ]
  },
  {
   "cell_type": "code",
   "execution_count": 25,
   "id": "f9cfbb2f-34fa-461d-b855-5df69f7a4075",
   "metadata": {},
   "outputs": [],
   "source": [
    "X = credit.drop(columns=[\n",
    "    'id', 'is_delinquent', 'number_of_delinquent_months', 'average_delinquency_rate', \n",
    "    '3mo_delinquency', '6mo_delinquency', '12mo_delinquency'])\n",
    "\n",
    "y = credit['is_delinquent']\n",
    "\n",
    "X_train, X_val, y_train, y_val = train_test_split(X, y, test_size=0.2, random_state=42)\n",
    "\n",
    "cat_cols = X_train.select_dtypes(include='object').columns\n",
    "num_cols = X_train.select_dtypes(include=['int64', 'float64']).columns\n",
    "\n",
    "sc = StandardScaler()\n",
    "\n",
    "oh = OneHotEncoder(\n",
    "    categories='auto', \n",
    "    drop='first', \n",
    "    sparse_output=False, \n",
    "    dtype='int',\n",
    "    handle_unknown = 'ignore'\n",
    ")\n",
    "\n",
    "ct = ColumnTransformer(\n",
    "    transformers=[\n",
    "        ('oh', oh, cat_cols),\n",
    "        ('sc', sc, num_cols)\n",
    "    ]\n",
    ")\n",
    "\n",
    "X_train_ct = ct.fit_transform(X_train)\n",
    "X_val_ct = ct.transform(X_val)"
   ]
  },
  {
   "cell_type": "code",
   "execution_count": 27,
   "id": "162b0f9e-859a-4c29-841f-4c4ad006bdc0",
   "metadata": {},
   "outputs": [
    {
     "name": "stdout",
     "output_type": "stream",
     "text": [
      "0.778815196394076\n",
      "0.7633612363168062\n"
     ]
    }
   ],
   "source": [
    "gb = GradientBoostingClassifier()\n",
    "gb.fit(X_train_ct, y_train)\n",
    "\n",
    "print(gb.score(X_train_ct, y_train))\n",
    "print(gb.score(X_val_ct, y_val))"
   ]
  },
  {
   "cell_type": "code",
   "execution_count": 52,
   "id": "94b907ff-029b-4134-8d8b-2152a2e4a844",
   "metadata": {},
   "outputs": [],
   "source": [
    "pgrids = {\n",
    "    'learning_rate': [.15, .175, 0.2],\n",
    "    'n_estimators': [285, 290, 295],\n",
    "    'max_depth': [8, 9, 10]\n",
    "}"
   ]
  },
  {
   "cell_type": "code",
   "execution_count": 53,
   "id": "a48d7880-c04b-4e25-a04e-5bb714b4b67c",
   "metadata": {},
   "outputs": [
    {
     "name": "stdout",
     "output_type": "stream",
     "text": [
      "CPU times: user 5min 26s, sys: 1.68 s, total: 5min 28s\n",
      "Wall time: 5min 33s\n"
     ]
    },
    {
     "data": {
      "text/html": [
       "<style>#sk-container-id-5 {color: black;background-color: white;}#sk-container-id-5 pre{padding: 0;}#sk-container-id-5 div.sk-toggleable {background-color: white;}#sk-container-id-5 label.sk-toggleable__label {cursor: pointer;display: block;width: 100%;margin-bottom: 0;padding: 0.3em;box-sizing: border-box;text-align: center;}#sk-container-id-5 label.sk-toggleable__label-arrow:before {content: \"▸\";float: left;margin-right: 0.25em;color: #696969;}#sk-container-id-5 label.sk-toggleable__label-arrow:hover:before {color: black;}#sk-container-id-5 div.sk-estimator:hover label.sk-toggleable__label-arrow:before {color: black;}#sk-container-id-5 div.sk-toggleable__content {max-height: 0;max-width: 0;overflow: hidden;text-align: left;background-color: #f0f8ff;}#sk-container-id-5 div.sk-toggleable__content pre {margin: 0.2em;color: black;border-radius: 0.25em;background-color: #f0f8ff;}#sk-container-id-5 input.sk-toggleable__control:checked~div.sk-toggleable__content {max-height: 200px;max-width: 100%;overflow: auto;}#sk-container-id-5 input.sk-toggleable__control:checked~label.sk-toggleable__label-arrow:before {content: \"▾\";}#sk-container-id-5 div.sk-estimator input.sk-toggleable__control:checked~label.sk-toggleable__label {background-color: #d4ebff;}#sk-container-id-5 div.sk-label input.sk-toggleable__control:checked~label.sk-toggleable__label {background-color: #d4ebff;}#sk-container-id-5 input.sk-hidden--visually {border: 0;clip: rect(1px 1px 1px 1px);clip: rect(1px, 1px, 1px, 1px);height: 1px;margin: -1px;overflow: hidden;padding: 0;position: absolute;width: 1px;}#sk-container-id-5 div.sk-estimator {font-family: monospace;background-color: #f0f8ff;border: 1px dotted black;border-radius: 0.25em;box-sizing: border-box;margin-bottom: 0.5em;}#sk-container-id-5 div.sk-estimator:hover {background-color: #d4ebff;}#sk-container-id-5 div.sk-parallel-item::after {content: \"\";width: 100%;border-bottom: 1px solid gray;flex-grow: 1;}#sk-container-id-5 div.sk-label:hover label.sk-toggleable__label {background-color: #d4ebff;}#sk-container-id-5 div.sk-serial::before {content: \"\";position: absolute;border-left: 1px solid gray;box-sizing: border-box;top: 0;bottom: 0;left: 50%;z-index: 0;}#sk-container-id-5 div.sk-serial {display: flex;flex-direction: column;align-items: center;background-color: white;padding-right: 0.2em;padding-left: 0.2em;position: relative;}#sk-container-id-5 div.sk-item {position: relative;z-index: 1;}#sk-container-id-5 div.sk-parallel {display: flex;align-items: stretch;justify-content: center;background-color: white;position: relative;}#sk-container-id-5 div.sk-item::before, #sk-container-id-5 div.sk-parallel-item::before {content: \"\";position: absolute;border-left: 1px solid gray;box-sizing: border-box;top: 0;bottom: 0;left: 50%;z-index: -1;}#sk-container-id-5 div.sk-parallel-item {display: flex;flex-direction: column;z-index: 1;position: relative;background-color: white;}#sk-container-id-5 div.sk-parallel-item:first-child::after {align-self: flex-end;width: 50%;}#sk-container-id-5 div.sk-parallel-item:last-child::after {align-self: flex-start;width: 50%;}#sk-container-id-5 div.sk-parallel-item:only-child::after {width: 0;}#sk-container-id-5 div.sk-dashed-wrapped {border: 1px dashed gray;margin: 0 0.4em 0.5em 0.4em;box-sizing: border-box;padding-bottom: 0.4em;background-color: white;}#sk-container-id-5 div.sk-label label {font-family: monospace;font-weight: bold;display: inline-block;line-height: 1.2em;}#sk-container-id-5 div.sk-label-container {text-align: center;}#sk-container-id-5 div.sk-container {/* jupyter's `normalize.less` sets `[hidden] { display: none; }` but bootstrap.min.css set `[hidden] { display: none !important; }` so we also need the `!important` here to be able to override the default hidden behavior on the sphinx rendered scikit-learn.org. See: https://github.com/scikit-learn/scikit-learn/issues/21755 */display: inline-block !important;position: relative;}#sk-container-id-5 div.sk-text-repr-fallback {display: none;}</style><div id=\"sk-container-id-5\" class=\"sk-top-container\"><div class=\"sk-text-repr-fallback\"><pre>GridSearchCV(cv=5,\n",
       "             estimator=GradientBoostingClassifier(learning_rate=0.175,\n",
       "                                                  max_depth=9),\n",
       "             param_grid={&#x27;n_estimators&#x27;: [285, 290, 295, 300]})</pre><b>In a Jupyter environment, please rerun this cell to show the HTML representation or trust the notebook. <br />On GitHub, the HTML representation is unable to render, please try loading this page with nbviewer.org.</b></div><div class=\"sk-container\" hidden><div class=\"sk-item sk-dashed-wrapped\"><div class=\"sk-label-container\"><div class=\"sk-label sk-toggleable\"><input class=\"sk-toggleable__control sk-hidden--visually\" id=\"sk-estimator-id-13\" type=\"checkbox\" ><label for=\"sk-estimator-id-13\" class=\"sk-toggleable__label sk-toggleable__label-arrow\">GridSearchCV</label><div class=\"sk-toggleable__content\"><pre>GridSearchCV(cv=5,\n",
       "             estimator=GradientBoostingClassifier(learning_rate=0.175,\n",
       "                                                  max_depth=9),\n",
       "             param_grid={&#x27;n_estimators&#x27;: [285, 290, 295, 300]})</pre></div></div></div><div class=\"sk-parallel\"><div class=\"sk-parallel-item\"><div class=\"sk-item\"><div class=\"sk-label-container\"><div class=\"sk-label sk-toggleable\"><input class=\"sk-toggleable__control sk-hidden--visually\" id=\"sk-estimator-id-14\" type=\"checkbox\" ><label for=\"sk-estimator-id-14\" class=\"sk-toggleable__label sk-toggleable__label-arrow\">estimator: GradientBoostingClassifier</label><div class=\"sk-toggleable__content\"><pre>GradientBoostingClassifier(learning_rate=0.175, max_depth=9)</pre></div></div></div><div class=\"sk-serial\"><div class=\"sk-item\"><div class=\"sk-estimator sk-toggleable\"><input class=\"sk-toggleable__control sk-hidden--visually\" id=\"sk-estimator-id-15\" type=\"checkbox\" ><label for=\"sk-estimator-id-15\" class=\"sk-toggleable__label sk-toggleable__label-arrow\">GradientBoostingClassifier</label><div class=\"sk-toggleable__content\"><pre>GradientBoostingClassifier(learning_rate=0.175, max_depth=9)</pre></div></div></div></div></div></div></div></div></div></div>"
      ],
      "text/plain": [
       "GridSearchCV(cv=5,\n",
       "             estimator=GradientBoostingClassifier(learning_rate=0.175,\n",
       "                                                  max_depth=9),\n",
       "             param_grid={'n_estimators': [285, 290, 295, 300]})"
      ]
     },
     "execution_count": 53,
     "metadata": {},
     "output_type": "execute_result"
    }
   ],
   "source": [
    "%%time\n",
    "gb = GradientBoostingClassifier()\n",
    "gs = GridSearchCV(gb, param_grid=pgrids, cv=5)\n",
    "gs.fit(X_train_ct, y_train)"
   ]
  },
  {
   "cell_type": "code",
   "execution_count": 54,
   "id": "62436821-0d1c-44d0-8330-efb6a615570f",
   "metadata": {},
   "outputs": [
    {
     "name": "stdout",
     "output_type": "stream",
     "text": [
      "0.9760141661300709\n",
      "0.7908886027044431\n"
     ]
    }
   ],
   "source": [
    "print(gs.score(X_train_ct, y_train))\n",
    "print(gs.score(X_val_ct, y_val))"
   ]
  },
  {
   "cell_type": "code",
   "execution_count": 102,
   "id": "ed4b8474-a3d8-452a-bb12-d5d48f93997f",
   "metadata": {},
   "outputs": [
    {
     "data": {
      "text/plain": [
       "{'n_estimators': 290}"
      ]
     },
     "execution_count": 102,
     "metadata": {},
     "output_type": "execute_result"
    }
   ],
   "source": [
    "gs.best_params_"
   ]
  },
  {
   "cell_type": "code",
   "execution_count": null,
   "id": "c641202a-d3e8-46ae-b730-d382d6e4440a",
   "metadata": {},
   "outputs": [],
   "source": [
    "%%time\n",
    "tree = DecisionTreeClassifier(random_state=123)#, max_depth=1\n",
    "ada = AdaBoostClassifier(estimator=tree, random_state=42)\n",
    "\n",
    "pgrids_ada = {\n",
    "    'learning_rate': [2.25, 2.5, 2.7],\n",
    "    'n_estimators': [250, 300, 350],\n",
    "    'estimator__max_depth': [71, 81, 91, 101, None],\n",
    "    # 'estimator__min_samples_leaf': [7, 8, 9],\n",
    "    'estimator__max_features': ['auto', 'sqrt', 'log2']\n",
    "}\n",
    "\n",
    "\n",
    "gs_ada = GridSearchCV(ada, param_grid=pgrids_ada, cv=5)\n",
    "gs_ada.fit(X_train_ct, y_train)\n",
    "\n",
    "print(gs_ada.score(X_train_ct, y_train))\n",
    "print(gs_ada.score(X_val_ct, y_val))"
   ]
  },
  {
   "cell_type": "code",
   "execution_count": null,
   "id": "47bd0041-330e-491c-87b4-b73bf2021b9c",
   "metadata": {},
   "outputs": [],
   "source": [
    "gs_ada.best_params_"
   ]
  }
 ],
 "metadata": {
  "kernelspec": {
   "display_name": "Python 3 (ipykernel)",
   "language": "python",
   "name": "python3"
  },
  "language_info": {
   "codemirror_mode": {
    "name": "ipython",
    "version": 3
   },
   "file_extension": ".py",
   "mimetype": "text/x-python",
   "name": "python",
   "nbconvert_exporter": "python",
   "pygments_lexer": "ipython3",
   "version": "3.10.9"
  }
 },
 "nbformat": 4,
 "nbformat_minor": 5
}

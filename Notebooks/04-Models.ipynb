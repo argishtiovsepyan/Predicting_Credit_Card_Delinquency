{
 "cells": [
  {
   "cell_type": "code",
   "execution_count": null,
   "id": "7332034d-2f06-4d63-8bd5-87cf82c4e61f",
   "metadata": {},
   "outputs": [],
   "source": [
    "import numpy as np\n",
    "import pandas as pd\n",
    "import matplotlib.pyplot as plt\n",
    "\n",
    "from sklearn.preprocessing import StandardScaler, OneHotEncoder\n",
    "from sklearn.compose import ColumnTransformer\n",
    "from sklearn.pipeline import Pipeline\n",
    "from sklearn.model_selection import train_test_split, RandomizedSearchCV, GridSearchCV\n",
    "from sklearn.metrics import ConfusionMatrixDisplay, classification_report, RocCurveDisplay\n",
    "from sklearn.ensemble import AdaBoostClassifier, GradientBoostingClassifier\n",
    "from sklearn.tree import DecisionTreeClassifier\n",
    "from sklearn.svm import LinearSVC, SVC\n",
    "from sklearn.linear_model import LogisticRegression\n",
    "from sklearn.ensemble import RandomForestClassifier\n",
    "\n",
    "from tensorflow.keras.models import Sequential\n",
    "from tensorflow.keras.layers import Dense, Dropout\n",
    "from tensorflow.keras.metrics import Recall\n",
    "from tensorflow.keras.callbacks import EarlyStopping\n",
    "from tensorflow.keras.regularizers import l2"
   ]
  },
  {
   "cell_type": "code",
   "execution_count": 12,
   "id": "f87f88f1-81b0-47d8-92c8-13eaec3eb359",
   "metadata": {},
   "outputs": [
    {
     "data": {
      "text/html": [
       "<div>\n",
       "<style scoped>\n",
       "    .dataframe tbody tr th:only-of-type {\n",
       "        vertical-align: middle;\n",
       "    }\n",
       "\n",
       "    .dataframe tbody tr th {\n",
       "        vertical-align: top;\n",
       "    }\n",
       "\n",
       "    .dataframe thead th {\n",
       "        text-align: right;\n",
       "    }\n",
       "</style>\n",
       "<table border=\"1\" class=\"dataframe\">\n",
       "  <thead>\n",
       "    <tr style=\"text-align: right;\">\n",
       "      <th></th>\n",
       "      <th>ID</th>\n",
       "      <th>is_delinquent</th>\n",
       "      <th>length_of_credit</th>\n",
       "      <th>number_of_delinquent_months</th>\n",
       "      <th>average_delinquency_rate</th>\n",
       "      <th>3mo_delinquency</th>\n",
       "      <th>6mo_delinquency</th>\n",
       "      <th>12mo_delinquency</th>\n",
       "      <th>FLAG_OWN_CAR</th>\n",
       "      <th>FLAG_OWN_REALTY</th>\n",
       "      <th>...</th>\n",
       "      <th>NAME_FAMILY_STATUS</th>\n",
       "      <th>NAME_HOUSING_TYPE</th>\n",
       "      <th>FLAG_MOBIL</th>\n",
       "      <th>FLAG_WORK_PHONE</th>\n",
       "      <th>FLAG_PHONE</th>\n",
       "      <th>FLAG_EMAIL</th>\n",
       "      <th>OCCUPATION_TYPE</th>\n",
       "      <th>CNT_FAM_MEMBERS</th>\n",
       "      <th>AGE</th>\n",
       "      <th>YEARS_EMPLOYED</th>\n",
       "    </tr>\n",
       "  </thead>\n",
       "  <tbody>\n",
       "    <tr>\n",
       "      <th>0</th>\n",
       "      <td>5008804</td>\n",
       "      <td>0</td>\n",
       "      <td>16</td>\n",
       "      <td>2</td>\n",
       "      <td>0.125000</td>\n",
       "      <td>0</td>\n",
       "      <td>0</td>\n",
       "      <td>0</td>\n",
       "      <td>Y</td>\n",
       "      <td>Y</td>\n",
       "      <td>...</td>\n",
       "      <td>Civil marriage</td>\n",
       "      <td>Rented apartment</td>\n",
       "      <td>1</td>\n",
       "      <td>1</td>\n",
       "      <td>0</td>\n",
       "      <td>0</td>\n",
       "      <td>missing</td>\n",
       "      <td>2.0</td>\n",
       "      <td>32</td>\n",
       "      <td>12</td>\n",
       "    </tr>\n",
       "    <tr>\n",
       "      <th>1</th>\n",
       "      <td>5008805</td>\n",
       "      <td>0</td>\n",
       "      <td>15</td>\n",
       "      <td>2</td>\n",
       "      <td>0.133333</td>\n",
       "      <td>0</td>\n",
       "      <td>0</td>\n",
       "      <td>0</td>\n",
       "      <td>Y</td>\n",
       "      <td>Y</td>\n",
       "      <td>...</td>\n",
       "      <td>Civil marriage</td>\n",
       "      <td>Rented apartment</td>\n",
       "      <td>1</td>\n",
       "      <td>1</td>\n",
       "      <td>0</td>\n",
       "      <td>0</td>\n",
       "      <td>missing</td>\n",
       "      <td>2.0</td>\n",
       "      <td>32</td>\n",
       "      <td>12</td>\n",
       "    </tr>\n",
       "    <tr>\n",
       "      <th>2</th>\n",
       "      <td>5008806</td>\n",
       "      <td>0</td>\n",
       "      <td>30</td>\n",
       "      <td>7</td>\n",
       "      <td>0.233333</td>\n",
       "      <td>0</td>\n",
       "      <td>0</td>\n",
       "      <td>1</td>\n",
       "      <td>Y</td>\n",
       "      <td>Y</td>\n",
       "      <td>...</td>\n",
       "      <td>Married</td>\n",
       "      <td>House / apartment</td>\n",
       "      <td>1</td>\n",
       "      <td>0</td>\n",
       "      <td>0</td>\n",
       "      <td>0</td>\n",
       "      <td>Security staff</td>\n",
       "      <td>2.0</td>\n",
       "      <td>58</td>\n",
       "      <td>3</td>\n",
       "    </tr>\n",
       "    <tr>\n",
       "      <th>3</th>\n",
       "      <td>5008808</td>\n",
       "      <td>1</td>\n",
       "      <td>5</td>\n",
       "      <td>2</td>\n",
       "      <td>0.400000</td>\n",
       "      <td>1</td>\n",
       "      <td>1</td>\n",
       "      <td>1</td>\n",
       "      <td>N</td>\n",
       "      <td>Y</td>\n",
       "      <td>...</td>\n",
       "      <td>Single / not married</td>\n",
       "      <td>House / apartment</td>\n",
       "      <td>1</td>\n",
       "      <td>0</td>\n",
       "      <td>1</td>\n",
       "      <td>1</td>\n",
       "      <td>Sales staff</td>\n",
       "      <td>1.0</td>\n",
       "      <td>52</td>\n",
       "      <td>8</td>\n",
       "    </tr>\n",
       "    <tr>\n",
       "      <th>4</th>\n",
       "      <td>5008809</td>\n",
       "      <td>0</td>\n",
       "      <td>5</td>\n",
       "      <td>0</td>\n",
       "      <td>0.000000</td>\n",
       "      <td>0</td>\n",
       "      <td>0</td>\n",
       "      <td>0</td>\n",
       "      <td>N</td>\n",
       "      <td>Y</td>\n",
       "      <td>...</td>\n",
       "      <td>Single / not married</td>\n",
       "      <td>House / apartment</td>\n",
       "      <td>1</td>\n",
       "      <td>0</td>\n",
       "      <td>1</td>\n",
       "      <td>1</td>\n",
       "      <td>Sales staff</td>\n",
       "      <td>1.0</td>\n",
       "      <td>52</td>\n",
       "      <td>8</td>\n",
       "    </tr>\n",
       "  </tbody>\n",
       "</table>\n",
       "<p>5 rows × 24 columns</p>\n",
       "</div>"
      ],
      "text/plain": [
       "        ID  is_delinquent  length_of_credit  number_of_delinquent_months  \\\n",
       "0  5008804              0                16                            2   \n",
       "1  5008805              0                15                            2   \n",
       "2  5008806              0                30                            7   \n",
       "3  5008808              1                 5                            2   \n",
       "4  5008809              0                 5                            0   \n",
       "\n",
       "   average_delinquency_rate  3mo_delinquency  6mo_delinquency  \\\n",
       "0                  0.125000                0                0   \n",
       "1                  0.133333                0                0   \n",
       "2                  0.233333                0                0   \n",
       "3                  0.400000                1                1   \n",
       "4                  0.000000                0                0   \n",
       "\n",
       "   12mo_delinquency FLAG_OWN_CAR FLAG_OWN_REALTY  ...    NAME_FAMILY_STATUS  \\\n",
       "0                 0            Y               Y  ...        Civil marriage   \n",
       "1                 0            Y               Y  ...        Civil marriage   \n",
       "2                 1            Y               Y  ...               Married   \n",
       "3                 1            N               Y  ...  Single / not married   \n",
       "4                 0            N               Y  ...  Single / not married   \n",
       "\n",
       "   NAME_HOUSING_TYPE FLAG_MOBIL FLAG_WORK_PHONE FLAG_PHONE FLAG_EMAIL  \\\n",
       "0   Rented apartment          1               1          0          0   \n",
       "1   Rented apartment          1               1          0          0   \n",
       "2  House / apartment          1               0          0          0   \n",
       "3  House / apartment          1               0          1          1   \n",
       "4  House / apartment          1               0          1          1   \n",
       "\n",
       "   OCCUPATION_TYPE  CNT_FAM_MEMBERS  AGE  YEARS_EMPLOYED  \n",
       "0          missing              2.0   32              12  \n",
       "1          missing              2.0   32              12  \n",
       "2   Security staff              2.0   58               3  \n",
       "3      Sales staff              1.0   52               8  \n",
       "4      Sales staff              1.0   52               8  \n",
       "\n",
       "[5 rows x 24 columns]"
      ]
     },
     "execution_count": 12,
     "metadata": {},
     "output_type": "execute_result"
    }
   ],
   "source": [
    "credit = pd.read_csv('../data/train_cleaned.csv')\n",
    "credit.head()"
   ]
  },
  {
   "cell_type": "code",
   "execution_count": 13,
   "id": "281e2620-4a28-49a1-a203-bf0337abaac4",
   "metadata": {},
   "outputs": [
    {
     "data": {
      "text/plain": [
       "Index(['ID', 'is_delinquent', 'length_of_credit',\n",
       "       'number_of_delinquent_months', 'average_delinquency_rate',\n",
       "       '3mo_delinquency', '6mo_delinquency', '12mo_delinquency',\n",
       "       'FLAG_OWN_CAR', 'FLAG_OWN_REALTY', 'CNT_CHILDREN', 'AMT_INCOME_TOTAL',\n",
       "       'NAME_INCOME_TYPE', 'NAME_EDUCATION_TYPE', 'NAME_FAMILY_STATUS',\n",
       "       'NAME_HOUSING_TYPE', 'FLAG_MOBIL', 'FLAG_WORK_PHONE', 'FLAG_PHONE',\n",
       "       'FLAG_EMAIL', 'OCCUPATION_TYPE', 'CNT_FAM_MEMBERS', 'AGE',\n",
       "       'YEARS_EMPLOYED'],\n",
       "      dtype='object')"
      ]
     },
     "execution_count": 13,
     "metadata": {},
     "output_type": "execute_result"
    }
   ],
   "source": [
    "credit.columns"
   ]
  },
  {
   "cell_type": "code",
   "execution_count": 14,
   "id": "3d6f9cad-991e-40a6-a1e7-97436ddad802",
   "metadata": {},
   "outputs": [
    {
     "data": {
      "text/plain": [
       "Index(['id', 'is_delinquent', 'length_of_credit',\n",
       "       'number_of_delinquent_months', 'average_delinquency_rate',\n",
       "       '3mo_delinquency', '6mo_delinquency', '12mo_delinquency',\n",
       "       'flag_own_car', 'flag_own_realty', 'cnt_children', 'amt_income_total',\n",
       "       'name_income_type', 'name_education_type', 'name_family_status',\n",
       "       'name_housing_type', 'flag_mobil', 'flag_work_phone', 'flag_phone',\n",
       "       'flag_email', 'occupation_type', 'cnt_fam_members', 'age',\n",
       "       'years_employed'],\n",
       "      dtype='object')"
      ]
     },
     "execution_count": 14,
     "metadata": {},
     "output_type": "execute_result"
    }
   ],
   "source": [
    "credit.columns = credit.columns.str.lower()\n",
    "credit.columns"
   ]
  },
  {
   "cell_type": "code",
   "execution_count": 15,
   "id": "b19616c0-6744-43d6-beb7-49ed1b909326",
   "metadata": {},
   "outputs": [],
   "source": [
    "X = credit.drop(columns=[\n",
    "    'id', 'is_delinquent', 'number_of_delinquent_months', 'average_delinquency_rate', \n",
    "    '3mo_delinquency', '6mo_delinquency', '12mo_delinquency'])\n",
    "\n",
    "y = credit['is_delinquent']"
   ]
  },
  {
   "cell_type": "code",
   "execution_count": 16,
   "id": "2917da31-3eb2-4b49-b53e-417af7ee6900",
   "metadata": {},
   "outputs": [],
   "source": [
    "X_train, X_val, y_train, y_val = train_test_split(X, y, test_size=0.2, random_state=42)"
   ]
  },
  {
   "cell_type": "code",
   "execution_count": 17,
   "id": "a04a25a8-d2c0-4fbe-b4ec-b13b6b0c9c08",
   "metadata": {},
   "outputs": [
    {
     "data": {
      "text/plain": [
       "length_of_credit         int64\n",
       "flag_own_car            object\n",
       "flag_own_realty         object\n",
       "cnt_children             int64\n",
       "amt_income_total       float64\n",
       "name_income_type        object\n",
       "name_education_type     object\n",
       "name_family_status      object\n",
       "name_housing_type       object\n",
       "flag_mobil               int64\n",
       "flag_work_phone          int64\n",
       "flag_phone               int64\n",
       "flag_email               int64\n",
       "occupation_type         object\n",
       "cnt_fam_members        float64\n",
       "age                      int64\n",
       "years_employed           int64\n",
       "dtype: object"
      ]
     },
     "execution_count": 17,
     "metadata": {},
     "output_type": "execute_result"
    }
   ],
   "source": [
    "X_train.dtypes"
   ]
  },
  {
   "cell_type": "code",
   "execution_count": 18,
   "id": "0451da05-cdd3-4dbc-91b6-8be841d781e8",
   "metadata": {},
   "outputs": [],
   "source": [
    "cat_cols = X_train.select_dtypes(include='object').columns\n",
    "num_cols = X_train.select_dtypes(include=['int64', 'float64']).columns"
   ]
  },
  {
   "cell_type": "markdown",
   "id": "c29d3403",
   "metadata": {},
   "source": [
    "## Train-test(Validation) split"
   ]
  },
  {
   "cell_type": "code",
   "execution_count": 19,
   "id": "40d0daf9-1360-4ae5-a716-3651ceafdbc7",
   "metadata": {},
   "outputs": [],
   "source": [
    "X = credit.drop(columns=[\n",
    "    'id', 'is_delinquent', 'number_of_delinquent_months', 'average_delinquency_rate', \n",
    "    '3mo_delinquency', '6mo_delinquency', '12mo_delinquency'])\n",
    "\n",
    "y_1 = credit['is_delinquent']\n",
    "y_2 = credit['3mo_delinquency']\n",
    "y_3 = credit['6mo_delinquency']\n",
    "y_4 = credit['12mo_delinquency']\n",
    "\n",
    "\n",
    "X_train, X_val, y_train_1, y_val_1 = train_test_split(X, y_1, test_size=0.2, random_state=42)\n",
    "\n",
    "X_train, X_val, y_train_2, y_val_2 = train_test_split(X, y_2, test_size=0.2, random_state=42)\n",
    "X_train, X_val, y_train_3, y_val_3 = train_test_split(X, y_3, test_size=0.2, random_state=42)\n",
    "\n",
    "X_train, X_val, y_train_4, y_val_4 = train_test_split(X, y_4, test_size=0.2, random_state=42)"
   ]
  },
  {
   "cell_type": "markdown",
   "id": "f73f32b8-977e-40f2-80c1-a8d73c10445c",
   "metadata": {},
   "source": [
    "## One-Hot-Encoding and Standard Scaling variables with Column Transform"
   ]
  },
  {
   "cell_type": "code",
   "execution_count": 20,
   "id": "c12b222d",
   "metadata": {},
   "outputs": [],
   "source": [
    "cat_cols = X_train.select_dtypes(include='object').columns\n",
    "num_cols = X_train.select_dtypes(include=['int64', 'float64']).columns\n",
    "\n",
    "sc = StandardScaler()\n",
    "\n",
    "oh = OneHotEncoder(\n",
    "    categories='auto', \n",
    "    drop='first', \n",
    "    sparse_output=False, \n",
    "    dtype='int',\n",
    "    handle_unknown = 'ignore'\n",
    ")\n",
    "\n",
    "ct = ColumnTransformer(\n",
    "    transformers=[\n",
    "        ('oh', oh, cat_cols),\n",
    "        ('sc', sc, num_cols)\n",
    "    ]\n",
    ")\n",
    "\n",
    "X_train_ct = ct.fit_transform(X_train)\n",
    "X_val_ct = ct.transform(X_val)"
   ]
  },
  {
   "cell_type": "code",
   "execution_count": null,
   "id": "227cc789",
   "metadata": {},
   "outputs": [],
   "source": []
  },
  {
   "cell_type": "code",
   "execution_count": null,
   "id": "7117665f",
   "metadata": {},
   "outputs": [],
   "source": []
  },
  {
   "cell_type": "code",
   "execution_count": 21,
   "id": "7703e5d4",
   "metadata": {},
   "outputs": [],
   "source": [
    "data_sets = [(\"is_delinquent\", y_train_1, y_val_1), \n",
    "             (\"3mo_delinquency\", y_train_2, y_val_2), \n",
    "             (\"6mo_delinquency\", y_train_3, y_val_3)]\n",
    "\n",
    "def fit_and_score(gs, X_train, y_train, X_val, y_val, name):\n",
    "    gs.fit(X_train, y_train)\n",
    "    print(f'Training score on {name} : {gs.score(X_train, y_train)}')\n",
    "    print(f'Testing score on {name} : {gs.score(X_val, y_val)}')\n",
    "    best_params = gs.best_params_\n",
    "    print(f\"Best parameters for {name}: {best_params}\")\n",
    "    return best_params"
   ]
  },
  {
   "cell_type": "markdown",
   "id": "e934b536",
   "metadata": {},
   "source": [
    "## Gradient Boosting with default parameters\n",
    "Predicting the classes with 3 different targets"
   ]
  },
  {
   "cell_type": "code",
   "execution_count": 48,
   "id": "be14dc01",
   "metadata": {},
   "outputs": [
    {
     "data": {
      "text/plain": [
       "0    0.757308\n",
       "1    0.242692\n",
       "Name: is_delinquent, dtype: float64"
      ]
     },
     "execution_count": 48,
     "metadata": {},
     "output_type": "execute_result"
    }
   ],
   "source": [
    "credit['is_delinquent'].value_counts(normalize=True)"
   ]
  },
  {
   "cell_type": "code",
   "execution_count": 27,
   "id": "162b0f9e-859a-4c29-841f-4c4ad006bdc0",
   "metadata": {},
   "outputs": [
    {
     "name": "stdout",
     "output_type": "stream",
     "text": [
      "0.778815196394076\n",
      "0.7633612363168062\n"
     ]
    }
   ],
   "source": [
    "gb = GradientBoostingClassifier()\n",
    "gb.fit(X_train_ct, y_train_1)\n",
    "\n",
    "print(gb.score(X_train_ct, y_train_1))\n",
    "print(gb.score(X_val_ct, y_val_1))"
   ]
  },
  {
   "cell_type": "code",
   "execution_count": 49,
   "id": "b8eb6fac",
   "metadata": {},
   "outputs": [
    {
     "data": {
      "text/plain": [
       "0    0.589633\n",
       "1    0.410367\n",
       "Name: 3mo_delinquency, dtype: float64"
      ]
     },
     "execution_count": 49,
     "metadata": {},
     "output_type": "execute_result"
    }
   ],
   "source": [
    "credit['3mo_delinquency'].value_counts(normalize=True)"
   ]
  },
  {
   "cell_type": "code",
   "execution_count": 46,
   "id": "d5cb9b9c",
   "metadata": {},
   "outputs": [
    {
     "name": "stdout",
     "output_type": "stream",
     "text": [
      "0.758813586606568\n",
      "0.7546683837733419\n"
     ]
    }
   ],
   "source": [
    "gb = GradientBoostingClassifier()\n",
    "gb.fit(X_train_ct, y_train_2)\n",
    "\n",
    "print(gb.score(X_train_ct, y_train_2))\n",
    "print(gb.score(X_val_ct, y_val_2))"
   ]
  },
  {
   "cell_type": "code",
   "execution_count": 50,
   "id": "c73c77db",
   "metadata": {},
   "outputs": [
    {
     "data": {
      "text/plain": [
       "0    0.526401\n",
       "1    0.473599\n",
       "Name: 6mo_delinquency, dtype: float64"
      ]
     },
     "execution_count": 50,
     "metadata": {},
     "output_type": "execute_result"
    }
   ],
   "source": [
    "credit['6mo_delinquency'].value_counts(normalize=True)"
   ]
  },
  {
   "cell_type": "code",
   "execution_count": 52,
   "id": "bdcd13b1",
   "metadata": {},
   "outputs": [
    {
     "name": "stdout",
     "output_type": "stream",
     "text": [
      "0.7706455247907277\n",
      "0.766580811332904\n"
     ]
    }
   ],
   "source": [
    "gb = GradientBoostingClassifier()\n",
    "gb.fit(X_train_ct, y_train_3)\n",
    "\n",
    "print(gb.score(X_train_ct, y_train_3))\n",
    "print(gb.score(X_val_ct, y_val_3))"
   ]
  },
  {
   "cell_type": "markdown",
   "id": "31b74c2e",
   "metadata": {},
   "source": [
    "## Gradient Boosting with GridSearchCV"
   ]
  },
  {
   "cell_type": "code",
   "execution_count": 52,
   "id": "94b907ff-029b-4134-8d8b-2152a2e4a844",
   "metadata": {},
   "outputs": [],
   "source": [
    "pgrids = {\n",
    "    'learning_rate': [.15, .175, 0.2],\n",
    "    'n_estimators': [285, 290, 295],\n",
    "    'max_depth': [8, 9, 10]\n",
    "}"
   ]
  },
  {
   "cell_type": "code",
   "execution_count": 53,
   "id": "a48d7880-c04b-4e25-a04e-5bb714b4b67c",
   "metadata": {},
   "outputs": [
    {
     "name": "stdout",
     "output_type": "stream",
     "text": [
      "CPU times: user 5min 26s, sys: 1.68 s, total: 5min 28s\n",
      "Wall time: 5min 33s\n"
     ]
    },
    {
     "data": {
      "text/html": [
       "<style>#sk-container-id-5 {color: black;background-color: white;}#sk-container-id-5 pre{padding: 0;}#sk-container-id-5 div.sk-toggleable {background-color: white;}#sk-container-id-5 label.sk-toggleable__label {cursor: pointer;display: block;width: 100%;margin-bottom: 0;padding: 0.3em;box-sizing: border-box;text-align: center;}#sk-container-id-5 label.sk-toggleable__label-arrow:before {content: \"▸\";float: left;margin-right: 0.25em;color: #696969;}#sk-container-id-5 label.sk-toggleable__label-arrow:hover:before {color: black;}#sk-container-id-5 div.sk-estimator:hover label.sk-toggleable__label-arrow:before {color: black;}#sk-container-id-5 div.sk-toggleable__content {max-height: 0;max-width: 0;overflow: hidden;text-align: left;background-color: #f0f8ff;}#sk-container-id-5 div.sk-toggleable__content pre {margin: 0.2em;color: black;border-radius: 0.25em;background-color: #f0f8ff;}#sk-container-id-5 input.sk-toggleable__control:checked~div.sk-toggleable__content {max-height: 200px;max-width: 100%;overflow: auto;}#sk-container-id-5 input.sk-toggleable__control:checked~label.sk-toggleable__label-arrow:before {content: \"▾\";}#sk-container-id-5 div.sk-estimator input.sk-toggleable__control:checked~label.sk-toggleable__label {background-color: #d4ebff;}#sk-container-id-5 div.sk-label input.sk-toggleable__control:checked~label.sk-toggleable__label {background-color: #d4ebff;}#sk-container-id-5 input.sk-hidden--visually {border: 0;clip: rect(1px 1px 1px 1px);clip: rect(1px, 1px, 1px, 1px);height: 1px;margin: -1px;overflow: hidden;padding: 0;position: absolute;width: 1px;}#sk-container-id-5 div.sk-estimator {font-family: monospace;background-color: #f0f8ff;border: 1px dotted black;border-radius: 0.25em;box-sizing: border-box;margin-bottom: 0.5em;}#sk-container-id-5 div.sk-estimator:hover {background-color: #d4ebff;}#sk-container-id-5 div.sk-parallel-item::after {content: \"\";width: 100%;border-bottom: 1px solid gray;flex-grow: 1;}#sk-container-id-5 div.sk-label:hover label.sk-toggleable__label {background-color: #d4ebff;}#sk-container-id-5 div.sk-serial::before {content: \"\";position: absolute;border-left: 1px solid gray;box-sizing: border-box;top: 0;bottom: 0;left: 50%;z-index: 0;}#sk-container-id-5 div.sk-serial {display: flex;flex-direction: column;align-items: center;background-color: white;padding-right: 0.2em;padding-left: 0.2em;position: relative;}#sk-container-id-5 div.sk-item {position: relative;z-index: 1;}#sk-container-id-5 div.sk-parallel {display: flex;align-items: stretch;justify-content: center;background-color: white;position: relative;}#sk-container-id-5 div.sk-item::before, #sk-container-id-5 div.sk-parallel-item::before {content: \"\";position: absolute;border-left: 1px solid gray;box-sizing: border-box;top: 0;bottom: 0;left: 50%;z-index: -1;}#sk-container-id-5 div.sk-parallel-item {display: flex;flex-direction: column;z-index: 1;position: relative;background-color: white;}#sk-container-id-5 div.sk-parallel-item:first-child::after {align-self: flex-end;width: 50%;}#sk-container-id-5 div.sk-parallel-item:last-child::after {align-self: flex-start;width: 50%;}#sk-container-id-5 div.sk-parallel-item:only-child::after {width: 0;}#sk-container-id-5 div.sk-dashed-wrapped {border: 1px dashed gray;margin: 0 0.4em 0.5em 0.4em;box-sizing: border-box;padding-bottom: 0.4em;background-color: white;}#sk-container-id-5 div.sk-label label {font-family: monospace;font-weight: bold;display: inline-block;line-height: 1.2em;}#sk-container-id-5 div.sk-label-container {text-align: center;}#sk-container-id-5 div.sk-container {/* jupyter's `normalize.less` sets `[hidden] { display: none; }` but bootstrap.min.css set `[hidden] { display: none !important; }` so we also need the `!important` here to be able to override the default hidden behavior on the sphinx rendered scikit-learn.org. See: https://github.com/scikit-learn/scikit-learn/issues/21755 */display: inline-block !important;position: relative;}#sk-container-id-5 div.sk-text-repr-fallback {display: none;}</style><div id=\"sk-container-id-5\" class=\"sk-top-container\"><div class=\"sk-text-repr-fallback\"><pre>GridSearchCV(cv=5,\n",
       "             estimator=GradientBoostingClassifier(learning_rate=0.175,\n",
       "                                                  max_depth=9),\n",
       "             param_grid={&#x27;n_estimators&#x27;: [285, 290, 295, 300]})</pre><b>In a Jupyter environment, please rerun this cell to show the HTML representation or trust the notebook. <br />On GitHub, the HTML representation is unable to render, please try loading this page with nbviewer.org.</b></div><div class=\"sk-container\" hidden><div class=\"sk-item sk-dashed-wrapped\"><div class=\"sk-label-container\"><div class=\"sk-label sk-toggleable\"><input class=\"sk-toggleable__control sk-hidden--visually\" id=\"sk-estimator-id-13\" type=\"checkbox\" ><label for=\"sk-estimator-id-13\" class=\"sk-toggleable__label sk-toggleable__label-arrow\">GridSearchCV</label><div class=\"sk-toggleable__content\"><pre>GridSearchCV(cv=5,\n",
       "             estimator=GradientBoostingClassifier(learning_rate=0.175,\n",
       "                                                  max_depth=9),\n",
       "             param_grid={&#x27;n_estimators&#x27;: [285, 290, 295, 300]})</pre></div></div></div><div class=\"sk-parallel\"><div class=\"sk-parallel-item\"><div class=\"sk-item\"><div class=\"sk-label-container\"><div class=\"sk-label sk-toggleable\"><input class=\"sk-toggleable__control sk-hidden--visually\" id=\"sk-estimator-id-14\" type=\"checkbox\" ><label for=\"sk-estimator-id-14\" class=\"sk-toggleable__label sk-toggleable__label-arrow\">estimator: GradientBoostingClassifier</label><div class=\"sk-toggleable__content\"><pre>GradientBoostingClassifier(learning_rate=0.175, max_depth=9)</pre></div></div></div><div class=\"sk-serial\"><div class=\"sk-item\"><div class=\"sk-estimator sk-toggleable\"><input class=\"sk-toggleable__control sk-hidden--visually\" id=\"sk-estimator-id-15\" type=\"checkbox\" ><label for=\"sk-estimator-id-15\" class=\"sk-toggleable__label sk-toggleable__label-arrow\">GradientBoostingClassifier</label><div class=\"sk-toggleable__content\"><pre>GradientBoostingClassifier(learning_rate=0.175, max_depth=9)</pre></div></div></div></div></div></div></div></div></div></div>"
      ],
      "text/plain": [
       "GridSearchCV(cv=5,\n",
       "             estimator=GradientBoostingClassifier(learning_rate=0.175,\n",
       "                                                  max_depth=9),\n",
       "             param_grid={'n_estimators': [285, 290, 295, 300]})"
      ]
     },
     "execution_count": 53,
     "metadata": {},
     "output_type": "execute_result"
    }
   ],
   "source": [
    "%%time\n",
    "gb = GradientBoostingClassifier()\n",
    "gs = GridSearchCV(gb, param_grid=pgrids, cv=5)\n",
    "gs.fit(X_train_ct, y_train)"
   ]
  },
  {
   "cell_type": "code",
   "execution_count": 54,
   "id": "62436821-0d1c-44d0-8330-efb6a615570f",
   "metadata": {},
   "outputs": [
    {
     "name": "stdout",
     "output_type": "stream",
     "text": [
      "0.9760141661300709\n",
      "0.7908886027044431\n"
     ]
    }
   ],
   "source": [
    "print(gs.score(X_train_ct, y_train))\n",
    "print(gs.score(X_val_ct, y_val))"
   ]
  },
  {
   "cell_type": "code",
   "execution_count": 102,
   "id": "ed4b8474-a3d8-452a-bb12-d5d48f93997f",
   "metadata": {},
   "outputs": [
    {
     "data": {
      "text/plain": [
       "{'n_estimators': 290}"
      ]
     },
     "execution_count": 102,
     "metadata": {},
     "output_type": "execute_result"
    }
   ],
   "source": [
    "gs.best_params_"
   ]
  },
  {
   "cell_type": "markdown",
   "id": "5082b9a2",
   "metadata": {},
   "source": [
    "## Ada Boost with GridSearchCV"
   ]
  },
  {
   "cell_type": "code",
   "execution_count": null,
   "id": "c641202a-d3e8-46ae-b730-d382d6e4440a",
   "metadata": {},
   "outputs": [],
   "source": [
    "%%time\n",
    "tree = DecisionTreeClassifier(random_state=123)#, max_depth=1\n",
    "ada = AdaBoostClassifier(estimator=tree, random_state=42)\n",
    "\n",
    "pgrids_ada = {\n",
    "    'learning_rate': [2.25, 2.5, 2.7],\n",
    "    'n_estimators': [250, 300, 350],\n",
    "    'estimator__max_depth': [71, 81, 91, 101, None],\n",
    "    # 'estimator__min_samples_leaf': [7, 8, 9],\n",
    "    'estimator__max_features': ['auto', 'sqrt', 'log2']\n",
    "}\n",
    "\n",
    "\n",
    "gs_ada = GridSearchCV(ada, param_grid=pgrids_ada, cv=5)\n",
    "gs_ada.fit(X_train_ct, y_train)\n",
    "\n",
    "print(gs_ada.score(X_train_ct, y_train))\n",
    "print(gs_ada.score(X_val_ct, y_val))"
   ]
  },
  {
   "cell_type": "code",
   "execution_count": null,
   "id": "47bd0041-330e-491c-87b4-b73bf2021b9c",
   "metadata": {},
   "outputs": [],
   "source": [
    "gs_ada.best_params_"
   ]
  },
  {
   "cell_type": "code",
   "execution_count": 2,
   "id": "fce64bd2",
   "metadata": {},
   "outputs": [],
   "source": [
    "# %%time\n",
    "# tree = DecisionTreeClassifier(random_state=123)#, max_depth=1\n",
    "# ada = AdaBoostClassifier(estimator=tree, random_state=42)\n",
    "\n",
    "# pgrids_ada = {\n",
    "#     'learning_rate': [2.25, 2.5, 2.7],\n",
    "#     'n_estimators': [250, 300, 350],\n",
    "#     'estimator__max_depth': [71, 81, 91, 101, None],\n",
    "#     # 'estimator__min_samples_leaf': [7, 8, 9],\n",
    "#     'estimator__max_features': ['auto', 'sqrt', 'log2']\n",
    "# }\n",
    "\n",
    "\n",
    "# gs_ada_2 = GridSearchCV(ada, param_grid=pgrids_ada, cv=5)\n",
    "# gs_ada_2.fit(X_train_ct, y_train_3)\n",
    "\n",
    "# print(gs_ada.score(X_train_ct, y_train_3))\n",
    "# print(gs_ada.score(X_val_ct, y_val_3))  "
   ]
  },
  {
   "cell_type": "code",
   "execution_count": null,
   "id": "ca931887",
   "metadata": {},
   "outputs": [],
   "source": []
  },
  {
   "cell_type": "code",
   "execution_count": null,
   "id": "4670996d",
   "metadata": {},
   "outputs": [],
   "source": []
  },
  {
   "cell_type": "markdown",
   "id": "adb19ecb",
   "metadata": {},
   "source": [
    "\n",
    "## SCV"
   ]
  },
  {
   "cell_type": "code",
   "execution_count": 27,
   "id": "98b72b35",
   "metadata": {},
   "outputs": [
    {
     "name": "stdout",
     "output_type": "stream",
     "text": [
      "0    0.757308\n",
      "1    0.242692\n",
      "Name: is_delinquent, dtype: float64\n",
      "0    0.589633\n",
      "1    0.410367\n",
      "Name: 3mo_delinquency, dtype: float64\n",
      "0    0.526401\n",
      "1    0.473599\n",
      "Name: 6mo_delinquency, dtype: float64\n"
     ]
    }
   ],
   "source": [
    "print(credit['is_delinquent'].value_counts(normalize=True))\n",
    "print(credit['3mo_delinquency'].value_counts(normalize=True))\n",
    "print(credit['6mo_delinquency'].value_counts(normalize=True))"
   ]
  },
  {
   "cell_type": "code",
   "execution_count": 42,
   "id": "0ff59e89",
   "metadata": {},
   "outputs": [
    {
     "data": {
      "text/plain": [
       "0.7548293625241468"
      ]
     },
     "execution_count": 42,
     "metadata": {},
     "output_type": "execute_result"
    }
   ],
   "source": [
    "svc = SVC(C=1, kernel='rbf', degree = 1)\n",
    "\n",
    "for name, y_train, y_val in data_sets:\n",
    "    fit_and_score(svc, X_train_ct, y_train, X_val_ct, y_val, 'SCV')\n",
    "\n",
    "\n",
    "#svc_1.fit(X_train_ct, y_train_1)\n",
    "# Evaluate model.\n",
    "#svc_1.score(X_val_ct, y_val_1)"
   ]
  },
  {
   "cell_type": "code",
   "execution_count": 43,
   "id": "c633fcca",
   "metadata": {},
   "outputs": [
    {
     "data": {
      "text/plain": [
       "0    0.589633\n",
       "1    0.410367\n",
       "Name: 3mo_delinquency, dtype: float64"
      ]
     },
     "execution_count": 43,
     "metadata": {},
     "output_type": "execute_result"
    }
   ],
   "source": [
    "credit['3mo_delinquency'].value_counts(normalize=True)"
   ]
  },
  {
   "cell_type": "code",
   "execution_count": 44,
   "id": "0a511cdc",
   "metadata": {},
   "outputs": [
    {
     "data": {
      "text/plain": [
       "0.7598197037990985"
      ]
     },
     "execution_count": 44,
     "metadata": {},
     "output_type": "execute_result"
    }
   ],
   "source": [
    "svc_2 = SVC(C=1, kernel='rbf', degree = 1)\n",
    "svc_2.fit(X_train_ct, y_train_2)\n",
    "# Evaluate model.\n",
    "svc_2.score(X_val_ct, y_val_2)"
   ]
  },
  {
   "cell_type": "code",
   "execution_count": 53,
   "id": "f89b546b",
   "metadata": {},
   "outputs": [
    {
     "data": {
      "text/plain": [
       "0    0.526401\n",
       "1    0.473599\n",
       "Name: 6mo_delinquency, dtype: float64"
      ]
     },
     "execution_count": 53,
     "metadata": {},
     "output_type": "execute_result"
    }
   ],
   "source": [
    "credit['6mo_delinquency'].value_counts(normalize=True)"
   ]
  },
  {
   "cell_type": "code",
   "execution_count": 54,
   "id": "cf180d1c",
   "metadata": {},
   "outputs": [
    {
     "data": {
      "text/plain": [
       "0.7670637475853187"
      ]
     },
     "execution_count": 54,
     "metadata": {},
     "output_type": "execute_result"
    }
   ],
   "source": [
    "svc_3 = SVC(C=1, kernel='rbf', degree = 1)\n",
    "svc_3.fit(X_train_ct, y_train_3)\n",
    "# Evaluate model.\n",
    "svc_3.score(X_val_ct, y_val_3)"
   ]
  },
  {
   "cell_type": "markdown",
   "id": "4894d4b1",
   "metadata": {},
   "source": [
    "## Random Forest"
   ]
  },
  {
   "cell_type": "code",
   "execution_count": 35,
   "id": "129b2025",
   "metadata": {},
   "outputs": [
    {
     "name": "stdout",
     "output_type": "stream",
     "text": [
      "Training score on is_delmin_samples_leafinquent : 0.8959272376046362\n",
      "Testing score on is_delinquent : 0.793947198969736\n",
      "Best parameters for is_delinquent: {'max_depth': None, 'max_features': 'sqrt', 'min_samples_leaf': 2, 'min_samples_split': 5, 'n_estimators': 200}\n",
      "Training score on 3mo_delinquency : 0.8967723760463618\n",
      "Testing score on 3mo_delinquency : 0.7974887314874437\n",
      "Best parameters for 3mo_delinquency: {'max_depth': None, 'max_features': 'sqrt', 'min_samples_leaf': 2, 'min_samples_split': 2, 'n_estimators': 300}\n",
      "Training score on 6mo_delinquency : 0.89210399227302\n",
      "Testing score on 6mo_delinquency : 0.7981326464906632\n",
      "Best parameters for 6mo_delinquency: {'max_depth': None, 'max_features': 'sqrt', 'min_samples_leaf': 2, 'min_samples_split': 5, 'n_estimators': 300}\n"
     ]
    }
   ],
   "source": [
    "param_grid = {\n",
    "    'n_estimators': [300,400],\n",
    "    'max_depth': [None],\n",
    "    'min_samples_split': [5,8],\n",
    "    'min_samples_leaf': [3, 4],\n",
    "    'max_features': ['sqrt']\n",
    "}\n",
    "\n",
    "rf = RandomForestClassifier()\n",
    "\n",
    "gs = GridSearchCV(estimator=rf, param_grid=param_grid)\n",
    "\n",
    "gs.fit(X_train_ct, y_train_1)\n",
    "print(f'Training score on is_delminquent : {gs.score(X_train_ct, y_train_1)}')\n",
    "print(f'Testing score on is_delinquent : {gs.score(X_val_ct, y_val_1)}')\n",
    "gs_1_best_params = gs.best_params_\n",
    "print(\"Best parameters for is_delinquent:\", gs_1_best_params)\n",
    "\n",
    "gs.fit(X_train_ct, y_train_2)\n",
    "print(f'Training score on 3mo_delinquency : {gs.score(X_train_ct, y_train_2)}')\n",
    "print(f'Testing score on 3mo_delinquency  : {gs.score(X_val_ct, y_val_2)}')\n",
    "gs_2_best_params = gs.best_params_\n",
    "print(\"Best parameters for 3mo_delinquency:\", gs_2_best_params)\n",
    "\n",
    "gs.fit(X_train_ct, y_train_3)\n",
    "print(f'Training score on 6mo_delinquency : {gs.score(X_train_ct, y_train_3)}')\n",
    "print(f'Testing score on 6mo_delinquency : {gs.score(X_val_ct, y_val_3)}')\n",
    "gs_3_best_params = gs.best_params_\n",
    "print(\"Best parameters for 6mo_delinquency:\", gs_3_best_params)"
   ]
  },
  {
   "cell_type": "code",
   "execution_count": 25,
   "id": "2b6f0934",
   "metadata": {},
   "outputs": [
    {
     "name": "stdout",
     "output_type": "stream",
     "text": [
      "Training score on Random_Forest : 0.8700499034127496\n",
      "Testing score on Random_Forest : 0.7875080489375402\n",
      "Best parameters for Random_Forest: {'max_depth': None, 'max_features': 'sqrt', 'min_samples_leaf': 3, 'min_samples_split': 5, 'n_estimators': 300}\n",
      "Training score on Random_Forest : 0.8568898905344494\n",
      "Testing score on Random_Forest : 0.7918544752092723\n",
      "Best parameters for Random_Forest: {'max_depth': None, 'max_features': 'sqrt', 'min_samples_leaf': 3, 'min_samples_split': 5, 'n_estimators': 400}\n",
      "Training score on Random_Forest : 0.8565679330328396\n",
      "Testing score on Random_Forest : 0.7899227301996137\n",
      "Best parameters for Random_Forest: {'max_depth': None, 'max_features': 'sqrt', 'min_samples_leaf': 3, 'min_samples_split': 5, 'n_estimators': 300}\n"
     ]
    }
   ],
   "source": [
    "param_grid = {\n",
    "    'n_estimators': [300,400],\n",
    "    'max_depth': [None],\n",
    "    'min_samples_split': [5,8],\n",
    "    'min_samples_leaf': [3, 4],\n",
    "    'max_features': ['sqrt']\n",
    "}\n",
    "\n",
    "rf = RandomForestClassifier()\n",
    "gs = GridSearchCV(estimator=rf, param_grid=param_grid)\n",
    "\n",
    "for name, y_train, y_val in data_sets:\n",
    "    fit_and_score(gs, X_train_ct, y_train, X_val_ct, y_val, 'Random_Forest')\n"
   ]
  },
  {
   "cell_type": "markdown",
   "id": "290771aa",
   "metadata": {},
   "source": [
    "## Logistic Regression"
   ]
  },
  {
   "cell_type": "code",
   "execution_count": 11,
   "id": "8fcdf15b",
   "metadata": {},
   "outputs": [
    {
     "name": "stdout",
     "output_type": "stream",
     "text": [
      "0    0.757308\n",
      "1    0.242692\n",
      "Name: is_delinquent, dtype: float64\n",
      "0    0.589633\n",
      "1    0.410367\n",
      "Name: 3mo_delinquency, dtype: float64\n",
      "0    0.526401\n",
      "1    0.473599\n",
      "Name: 6mo_delinquency, dtype: float64\n"
     ]
    }
   ],
   "source": [
    "print(credit['is_delinquent'].value_counts(normalize=True))\n",
    "print(credit['3mo_delinquency'].value_counts(normalize=True))\n",
    "print(credit['6mo_delinquency'].value_counts(normalize=True))"
   ]
  },
  {
   "cell_type": "code",
   "execution_count": 24,
   "id": "62fb5918",
   "metadata": {},
   "outputs": [
    {
     "name": "stdout",
     "output_type": "stream",
     "text": [
      "Training score on Random_Forest : 0.7627575660012879\n",
      "Testing score on Random_Forest : 0.754507405022537\n",
      "Best parameters for Random_Forest: {'C': 10.0, 'max_iter': 500, 'penalty': 'l2', 'solver': 'lbfgs'}\n",
      "Training score on Random_Forest : 0.749637797810689\n",
      "Testing score on Random_Forest : 0.7435608499678042\n",
      "Best parameters for Random_Forest: {'C': 10.0, 'max_iter': 500, 'penalty': 'l2', 'solver': 'lbfgs'}\n",
      "Training score on Random_Forest : 0.7563184159690921\n",
      "Testing score on Random_Forest : 0.7549903412749517\n",
      "Best parameters for Random_Forest: {'C': 1.0, 'max_iter': 500, 'penalty': 'l2', 'solver': 'lbfgs'}\n"
     ]
    }
   ],
   "source": [
    "param_grid = {\n",
    "    'C':  np.linspace(1, 10,5),\n",
    "    'penalty': ['l2'],\n",
    "    'solver': ['lbfgs'],\n",
    "    'max_iter': [500,1000]\n",
    "    \n",
    "}\n",
    "\n",
    "gs = GridSearchCV(\n",
    "estimator= LogisticRegression(),\n",
    "param_grid=param_grid)\n",
    "\n",
    "\n",
    "for name, y_train, y_val in data_sets:\n",
    "    fit_and_score(gs, X_train_ct, y_train, X_val_ct, y_val, 'Logistic_Regression')"
   ]
  },
  {
   "cell_type": "markdown",
   "id": "7c1b94d9-8478-4ecb-ba9d-f891a3a6ee71",
   "metadata": {},
   "source": [
    "## Dense Neural Network"
   ]
  },
  {
   "cell_type": "code",
   "execution_count": 4,
   "id": "7965844d-db1a-4718-80df-7231f21fa611",
   "metadata": {},
   "outputs": [],
   "source": [
    "def dnn(X_train, y_train, X_val, y_val):\n",
    "\n",
    "    model = Sequential()\n",
    "    model.add(Dense(256, input_dim=X_train_ct.shape[1], activation='relu'))\n",
    "    model.add(Dense(128, activation='relu'))\n",
    "    model.add(Dense(64, activation='relu'))\n",
    "    model.add(Dense(32, activation='relu'))\n",
    "    model.add(Dense(1, activation='sigmoid'))\n",
    "\n",
    "    model.compile(loss='binary_crossentropy', \n",
    "                  optimizer='adam', \n",
    "                  metrics=['accuracy', 'Recall'])\n",
    "\n",
    "    es = EarlyStopping(monitor='val_loss', patience=5, restore_best_weights=True)\n",
    "\n",
    "    model.fit(\n",
    "    X_train_ct, \n",
    "    y_train_1, \n",
    "    epochs=50, \n",
    "    batch_size=32, \n",
    "    validation_data=(X_val, y_val),\n",
    "    callbacks = es\n",
    "    )\n",
    "\n",
    "    return model"
   ]
  },
  {
   "cell_type": "code",
   "execution_count": 5,
   "id": "f7993f4c-4def-46be-99fa-e94c27556983",
   "metadata": {},
   "outputs": [],
   "source": [
    "# Model did worse with dropouts, l2 regularizer\n",
    "# Performed similar with extra hidden layers"
   ]
  },
  {
   "cell_type": "code",
   "execution_count": 18,
   "id": "e537e530-de50-4d43-844d-17fd113de923",
   "metadata": {},
   "outputs": [
    {
     "name": "stdout",
     "output_type": "stream",
     "text": [
      "Epoch 1/50\n",
      "777/777 [==============================] - 1s 1ms/step - loss: 0.4989 - accuracy: 0.7588 - recall: 0.0910 - val_loss: 0.4975 - val_accuracy: 0.7527 - val_recall: 0.0045\n",
      "Epoch 2/50\n",
      "777/777 [==============================] - 1s 1ms/step - loss: 0.4848 - accuracy: 0.7669 - recall: 0.2183 - val_loss: 0.4965 - val_accuracy: 0.7534 - val_recall: 0.0883\n",
      "Epoch 3/50\n",
      "777/777 [==============================] - 1s 1ms/step - loss: 0.4806 - accuracy: 0.7691 - recall: 0.2596 - val_loss: 0.4944 - val_accuracy: 0.7576 - val_recall: 0.3245\n",
      "Epoch 4/50\n",
      "777/777 [==============================] - 1s 1ms/step - loss: 0.4754 - accuracy: 0.7725 - recall: 0.2931 - val_loss: 0.4933 - val_accuracy: 0.7585 - val_recall: 0.1849\n",
      "Epoch 5/50\n",
      "777/777 [==============================] - 1s 1ms/step - loss: 0.4710 - accuracy: 0.7758 - recall: 0.2935 - val_loss: 0.4900 - val_accuracy: 0.7616 - val_recall: 0.3232\n",
      "Epoch 6/50\n",
      "777/777 [==============================] - 1s 1ms/step - loss: 0.4641 - accuracy: 0.7805 - recall: 0.3178 - val_loss: 0.4940 - val_accuracy: 0.7621 - val_recall: 0.2472\n",
      "Epoch 7/50\n",
      "777/777 [==============================] - 1s 1ms/step - loss: 0.4574 - accuracy: 0.7872 - recall: 0.3398 - val_loss: 0.4938 - val_accuracy: 0.7664 - val_recall: 0.2472\n",
      "Epoch 8/50\n",
      "777/777 [==============================] - 1s 1ms/step - loss: 0.4482 - accuracy: 0.7911 - recall: 0.3623 - val_loss: 0.4932 - val_accuracy: 0.7680 - val_recall: 0.3037\n",
      "Epoch 9/50\n",
      "777/777 [==============================] - 1s 1ms/step - loss: 0.4408 - accuracy: 0.7956 - recall: 0.3840 - val_loss: 0.4901 - val_accuracy: 0.7669 - val_recall: 0.3452\n",
      "Epoch 10/50\n",
      "777/777 [==============================] - 1s 1ms/step - loss: 0.4293 - accuracy: 0.8007 - recall: 0.4082 - val_loss: 0.4963 - val_accuracy: 0.7696 - val_recall: 0.3348\n"
     ]
    }
   ],
   "source": [
    "is_delinq = dnn(X_train_ct, y_train_1, X_val_ct, y_val_1)"
   ]
  },
  {
   "cell_type": "code",
   "execution_count": 19,
   "id": "0d7cc7a3-d601-4356-ae30-ee13cc3080dd",
   "metadata": {},
   "outputs": [
    {
     "name": "stdout",
     "output_type": "stream",
     "text": [
      "Epoch 1/50\n",
      "777/777 [==============================] - 1s 1ms/step - loss: 0.4977 - accuracy: 0.7587 - recall: 0.0875 - val_loss: 0.6547 - val_accuracy: 0.5831 - val_recall: 3.8595e-04\n",
      "Epoch 2/50\n",
      "777/777 [==============================] - 1s 1ms/step - loss: 0.4852 - accuracy: 0.7657 - recall: 0.2026 - val_loss: 0.6065 - val_accuracy: 0.6460 - val_recall: 0.1949\n",
      "Epoch 3/50\n",
      "777/777 [==============================] - 1s 1ms/step - loss: 0.4793 - accuracy: 0.7690 - recall: 0.2193 - val_loss: 0.6480 - val_accuracy: 0.6178 - val_recall: 0.1123\n",
      "Epoch 4/50\n",
      "777/777 [==============================] - 1s 1ms/step - loss: 0.4744 - accuracy: 0.7748 - recall: 0.2420 - val_loss: 0.5787 - val_accuracy: 0.7028 - val_recall: 0.4068\n",
      "Epoch 5/50\n",
      "777/777 [==============================] - 1s 1ms/step - loss: 0.4691 - accuracy: 0.7771 - recall: 0.2785 - val_loss: 0.6483 - val_accuracy: 0.6502 - val_recall: 0.2242\n",
      "Epoch 6/50\n",
      "777/777 [==============================] - 1s 1ms/step - loss: 0.4616 - accuracy: 0.7832 - recall: 0.2996 - val_loss: 0.6629 - val_accuracy: 0.6333 - val_recall: 0.1571\n",
      "Epoch 7/50\n",
      "777/777 [==============================] - 1s 1ms/step - loss: 0.4536 - accuracy: 0.7877 - recall: 0.3130 - val_loss: 0.6319 - val_accuracy: 0.6467 - val_recall: 0.1999\n",
      "Epoch 8/50\n",
      "777/777 [==============================] - 1s 1ms/step - loss: 0.4452 - accuracy: 0.7927 - recall: 0.3298 - val_loss: 0.6178 - val_accuracy: 0.6785 - val_recall: 0.3281\n",
      "Epoch 9/50\n",
      "777/777 [==============================] - 1s 1ms/step - loss: 0.4342 - accuracy: 0.7985 - recall: 0.3712 - val_loss: 0.6553 - val_accuracy: 0.6297 - val_recall: 0.1443\n"
     ]
    }
   ],
   "source": [
    "three_month_delinq = dnn(X_train_ct, y_train_2, X_val_ct, y_val_2)"
   ]
  },
  {
   "cell_type": "code",
   "execution_count": 20,
   "id": "edd5f70b-ef8c-4c2c-9dcb-f02bdd50a793",
   "metadata": {},
   "outputs": [
    {
     "name": "stdout",
     "output_type": "stream",
     "text": [
      "Epoch 1/50\n",
      "777/777 [==============================] - 1s 1ms/step - loss: 0.4960 - accuracy: 0.7603 - recall: 0.1006 - val_loss: 0.6815 - val_accuracy: 0.5893 - val_recall: 0.1747\n",
      "Epoch 2/50\n",
      "777/777 [==============================] - 1s 1ms/step - loss: 0.4848 - accuracy: 0.7645 - recall: 0.1959 - val_loss: 0.7133 - val_accuracy: 0.5631 - val_recall: 0.1041\n",
      "Epoch 3/50\n",
      "777/777 [==============================] - 1s 1ms/step - loss: 0.4793 - accuracy: 0.7682 - recall: 0.2244 - val_loss: 0.6664 - val_accuracy: 0.5763 - val_recall: 0.1382\n",
      "Epoch 4/50\n",
      "777/777 [==============================] - 1s 1ms/step - loss: 0.4738 - accuracy: 0.7730 - recall: 0.2548 - val_loss: 0.7220 - val_accuracy: 0.5835 - val_recall: 0.1520\n",
      "Epoch 5/50\n",
      "777/777 [==============================] - 1s 1ms/step - loss: 0.4674 - accuracy: 0.7783 - recall: 0.2646 - val_loss: 0.7278 - val_accuracy: 0.6178 - val_recall: 0.2402\n",
      "Epoch 6/50\n",
      "777/777 [==============================] - 1s 1ms/step - loss: 0.4609 - accuracy: 0.7812 - recall: 0.2815 - val_loss: 0.6752 - val_accuracy: 0.6209 - val_recall: 0.2524\n",
      "Epoch 7/50\n",
      "777/777 [==============================] - 1s 1ms/step - loss: 0.4519 - accuracy: 0.7863 - recall: 0.3042 - val_loss: 0.6262 - val_accuracy: 0.6835 - val_recall: 0.4331\n",
      "Epoch 8/50\n",
      "777/777 [==============================] - 1s 1ms/step - loss: 0.4434 - accuracy: 0.7925 - recall: 0.3317 - val_loss: 0.7746 - val_accuracy: 0.5972 - val_recall: 0.1865\n",
      "Epoch 9/50\n",
      "777/777 [==============================] - 1s 1ms/step - loss: 0.4328 - accuracy: 0.7962 - recall: 0.3488 - val_loss: 0.8071 - val_accuracy: 0.6109 - val_recall: 0.2250\n",
      "Epoch 10/50\n",
      "777/777 [==============================] - 1s 1ms/step - loss: 0.4222 - accuracy: 0.7997 - recall: 0.3732 - val_loss: 0.8103 - val_accuracy: 0.5874 - val_recall: 0.1564\n",
      "Epoch 11/50\n",
      "777/777 [==============================] - 1s 1ms/step - loss: 0.4111 - accuracy: 0.8078 - recall: 0.3982 - val_loss: 0.7621 - val_accuracy: 0.6203 - val_recall: 0.2571\n",
      "Epoch 12/50\n",
      "777/777 [==============================] - 1s 1ms/step - loss: 0.3991 - accuracy: 0.8146 - recall: 0.4302 - val_loss: 0.7868 - val_accuracy: 0.5892 - val_recall: 0.1713\n"
     ]
    }
   ],
   "source": [
    "six_month_delinq = dnn(X_train_ct, y_train_3, X_val_ct, y_val_3)"
   ]
  },
  {
   "cell_type": "code",
   "execution_count": null,
   "id": "5b157ef0-0c17-4a48-977d-081562132f22",
   "metadata": {},
   "outputs": [],
   "source": []
  }
 ],
 "metadata": {
  "kernelspec": {
   "display_name": "Python 3 (ipykernel)",
   "language": "python",
   "name": "python3"
  },
  "language_info": {
   "codemirror_mode": {
    "name": "ipython",
    "version": 3
   },
   "file_extension": ".py",
   "mimetype": "text/x-python",
   "name": "python",
   "nbconvert_exporter": "python",
   "pygments_lexer": "ipython3",
   "version": "3.10.9"
  }
 },
 "nbformat": 4,
 "nbformat_minor": 5
}

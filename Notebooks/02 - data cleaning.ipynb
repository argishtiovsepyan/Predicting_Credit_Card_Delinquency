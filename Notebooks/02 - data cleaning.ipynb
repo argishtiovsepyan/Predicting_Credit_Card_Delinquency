{
 "cells": [
  {
   "cell_type": "code",
   "execution_count": 1,
   "id": "2a315c65-ae5c-43ec-80b7-c2ac3822f1ed",
   "metadata": {},
   "outputs": [],
   "source": [
    "import pandas as pd\n",
    "import numpy as np\n",
    "import matplotlib.pyplot as plt\n",
    "\n",
    "import seaborn as sns"
   ]
  },
  {
   "cell_type": "code",
   "execution_count": 2,
   "id": "aab704df-4a9a-4c61-985b-b13cdf2e6dfb",
   "metadata": {},
   "outputs": [],
   "source": [
    "from functions import credit_approval_data_cleaner, n_mo_delinquency"
   ]
  },
  {
   "cell_type": "code",
   "execution_count": 3,
   "id": "c4b418e4-55fa-4d51-9c3d-da96d7426da7",
   "metadata": {},
   "outputs": [],
   "source": [
    "applications = pd.read_csv('../data/application_record.csv')\n",
    "credits = pd.read_csv('../data/credit_record.csv')\n"
   ]
  },
  {
   "cell_type": "code",
   "execution_count": 4,
   "id": "057a7517-8da8-4a1b-adf6-59f62bf19ef5",
   "metadata": {},
   "outputs": [],
   "source": [
    "#this cell cannot be part of the production process. It is just for now that we are training the model.\n",
    "# in real applications this should not be necessary.\n",
    "applications = applications.groupby('ID').filter(lambda x: len(x) != 2)"
   ]
  },
  {
   "cell_type": "markdown",
   "id": "fc194ade-ac3f-4d2d-9b12-f3c0e6467318",
   "metadata": {
    "tags": []
   },
   "source": [
    "> In the following, we are creating our training and testing samples. "
   ]
  },
  {
   "cell_type": "code",
   "execution_count": 5,
   "id": "2b098195-82ea-4536-af43-2cf3974d1cac",
   "metadata": {},
   "outputs": [],
   "source": [
    "ID_test = applications['ID'].sample(frac=0.15, random_state=42) #Splitting the sample based on ID\n",
    "\n",
    "applications_test = applications[applications['ID'].isin(ID_test)]\n",
    "applications_train = applications[~applications['ID'].isin(ID_test)]\n",
    "\n",
    "credits_test = credits[credits['ID'].isin(ID_test)]\n",
    "credits_train = credits[~credits['ID'].isin(ID_test)]"
   ]
  },
  {
   "cell_type": "code",
   "execution_count": 6,
   "id": "c5b4af7f-9a94-42f9-b249-ce1c9d2a0ccb",
   "metadata": {},
   "outputs": [],
   "source": [
    "train_cleaned = credit_approval_data_cleaner(credits_train, applications_train, [3, 6, 12])"
   ]
  },
  {
   "cell_type": "code",
   "execution_count": 7,
   "id": "a2b75ebd-fba4-40bf-9b19-7922ff72bfbb",
   "metadata": {},
   "outputs": [],
   "source": [
    "train_cleaned.to_csv('../data/train_cleaned.csv', index=False)"
   ]
  },
  {
   "cell_type": "code",
   "execution_count": 8,
   "id": "7ee39269-1e1e-4ce3-bb89-33b70662df8d",
   "metadata": {},
   "outputs": [],
   "source": [
    "applications_test.to_csv('../data/applications_test.csv', index=False)\n",
    "credits_test.to_csv('../data/credits_test.csv', index=False)"
   ]
  },
  {
   "cell_type": "code",
   "execution_count": null,
   "id": "a5b92d0d-f777-42fe-862f-1d2fc1ca1f8f",
   "metadata": {},
   "outputs": [],
   "source": []
  }
 ],
 "metadata": {
  "kernelspec": {
   "display_name": "Python 3 (ipykernel)",
   "language": "python",
   "name": "python3"
  },
  "language_info": {
   "codemirror_mode": {
    "name": "ipython",
    "version": 3
   },
   "file_extension": ".py",
   "mimetype": "text/x-python",
   "name": "python",
   "nbconvert_exporter": "python",
   "pygments_lexer": "ipython3",
   "version": "3.10.9"
  }
 },
 "nbformat": 4,
 "nbformat_minor": 5
}

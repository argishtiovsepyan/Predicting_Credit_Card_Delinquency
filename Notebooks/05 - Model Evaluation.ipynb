{
 "cells": [
  {
   "cell_type": "markdown",
   "id": "47a70e25-fcc4-40b6-aa93-ff5c9b12dac2",
   "metadata": {},
   "source": [
    "# Assessing the Model Performance:\n",
    "\n",
    "This notebook retrieves the best model along with its corresponding best set of hyperparameters that were trained in the 04 - Models section. The purpose of this step is to assess the performance of the model using unseen data.\n",
    "\n",
    "By applying the best model to this new data, it is possible to evaluate how well it generalizes to examples it hasn't encountered during training. This assessment will provide insights into the model's ability to make accurate predictions and handle real-world scenarios."
   ]
  },
  {
   "cell_type": "code",
   "execution_count": 43,
   "id": "fa6a90cd-6184-4a85-a35c-176868df8f63",
   "metadata": {},
   "outputs": [],
   "source": [
    "import numpy as np\n",
    "import pandas as pd\n",
    "import matplotlib.pyplot as plt\n",
    "\n",
    "import pickle\n",
    "\n",
    "from sklearn.preprocessing import StandardScaler, OneHotEncoder\n",
    "from sklearn.compose import ColumnTransformer\n",
    "from sklearn.pipeline import Pipeline\n",
    "from sklearn.model_selection import train_test_split, RandomizedSearchCV, GridSearchCV\n",
    "from sklearn.metrics import ConfusionMatrixDisplay, classification_report, RocCurveDisplay, roc_auc_score\n",
    "from sklearn.ensemble import AdaBoostClassifier, GradientBoostingClassifier\n",
    "from sklearn.tree import DecisionTreeClassifier\n",
    "from sklearn.svm import LinearSVC, SVC\n",
    "from sklearn.linear_model import LogisticRegression\n",
    "from sklearn.ensemble import RandomForestClassifier\n"
   ]
  },
  {
   "cell_type": "code",
   "execution_count": 5,
   "id": "050a77f8-ca09-40b9-9f86-742aa5f0784b",
   "metadata": {},
   "outputs": [],
   "source": [
    "from functions import credit_approval_data_cleaner, n_mo_delinquency"
   ]
  },
  {
   "cell_type": "code",
   "execution_count": 9,
   "id": "6236c6b2-70d4-4dc3-991c-cf585b57ab7f",
   "metadata": {},
   "outputs": [
    {
     "data": {
      "text/html": [
       "<div>\n",
       "<style scoped>\n",
       "    .dataframe tbody tr th:only-of-type {\n",
       "        vertical-align: middle;\n",
       "    }\n",
       "\n",
       "    .dataframe tbody tr th {\n",
       "        vertical-align: top;\n",
       "    }\n",
       "\n",
       "    .dataframe thead th {\n",
       "        text-align: right;\n",
       "    }\n",
       "</style>\n",
       "<table border=\"1\" class=\"dataframe\">\n",
       "  <thead>\n",
       "    <tr style=\"text-align: right;\">\n",
       "      <th></th>\n",
       "      <th>id</th>\n",
       "      <th>is_delinquent</th>\n",
       "      <th>length_of_credit</th>\n",
       "      <th>number_of_delinquent_months</th>\n",
       "      <th>average_delinquency_rate</th>\n",
       "      <th>6mo_delinquency</th>\n",
       "      <th>12mo_delinquency</th>\n",
       "      <th>flag_own_car</th>\n",
       "      <th>flag_own_realty</th>\n",
       "      <th>cnt_children</th>\n",
       "      <th>...</th>\n",
       "      <th>name_family_status</th>\n",
       "      <th>name_housing_type</th>\n",
       "      <th>flag_mobil</th>\n",
       "      <th>flag_work_phone</th>\n",
       "      <th>flag_phone</th>\n",
       "      <th>flag_email</th>\n",
       "      <th>occupation_type</th>\n",
       "      <th>cnt_fam_members</th>\n",
       "      <th>age</th>\n",
       "      <th>years_employed</th>\n",
       "    </tr>\n",
       "  </thead>\n",
       "  <tbody>\n",
       "    <tr>\n",
       "      <th>0</th>\n",
       "      <td>5008834</td>\n",
       "      <td>0</td>\n",
       "      <td>45</td>\n",
       "      <td>5</td>\n",
       "      <td>0.111111</td>\n",
       "      <td>0</td>\n",
       "      <td>0</td>\n",
       "      <td>N</td>\n",
       "      <td>Y</td>\n",
       "      <td>1</td>\n",
       "      <td>...</td>\n",
       "      <td>Single / not married</td>\n",
       "      <td>House / apartment</td>\n",
       "      <td>1</td>\n",
       "      <td>0</td>\n",
       "      <td>0</td>\n",
       "      <td>0</td>\n",
       "      <td>missing</td>\n",
       "      <td>2.0</td>\n",
       "      <td>30</td>\n",
       "      <td>4</td>\n",
       "    </tr>\n",
       "    <tr>\n",
       "      <th>1</th>\n",
       "      <td>5008839</td>\n",
       "      <td>0</td>\n",
       "      <td>14</td>\n",
       "      <td>10</td>\n",
       "      <td>0.714286</td>\n",
       "      <td>1</td>\n",
       "      <td>1</td>\n",
       "      <td>N</td>\n",
       "      <td>Y</td>\n",
       "      <td>1</td>\n",
       "      <td>...</td>\n",
       "      <td>Married</td>\n",
       "      <td>House / apartment</td>\n",
       "      <td>1</td>\n",
       "      <td>0</td>\n",
       "      <td>0</td>\n",
       "      <td>0</td>\n",
       "      <td>Managers</td>\n",
       "      <td>3.0</td>\n",
       "      <td>32</td>\n",
       "      <td>5</td>\n",
       "    </tr>\n",
       "    <tr>\n",
       "      <th>2</th>\n",
       "      <td>5008861</td>\n",
       "      <td>1</td>\n",
       "      <td>4</td>\n",
       "      <td>3</td>\n",
       "      <td>0.750000</td>\n",
       "      <td>1</td>\n",
       "      <td>1</td>\n",
       "      <td>Y</td>\n",
       "      <td>Y</td>\n",
       "      <td>2</td>\n",
       "      <td>...</td>\n",
       "      <td>Married</td>\n",
       "      <td>House / apartment</td>\n",
       "      <td>1</td>\n",
       "      <td>0</td>\n",
       "      <td>0</td>\n",
       "      <td>0</td>\n",
       "      <td>Laborers</td>\n",
       "      <td>4.0</td>\n",
       "      <td>43</td>\n",
       "      <td>8</td>\n",
       "    </tr>\n",
       "    <tr>\n",
       "      <th>3</th>\n",
       "      <td>5008891</td>\n",
       "      <td>0</td>\n",
       "      <td>8</td>\n",
       "      <td>1</td>\n",
       "      <td>0.125000</td>\n",
       "      <td>0</td>\n",
       "      <td>1</td>\n",
       "      <td>N</td>\n",
       "      <td>Y</td>\n",
       "      <td>0</td>\n",
       "      <td>...</td>\n",
       "      <td>Single / not married</td>\n",
       "      <td>Rented apartment</td>\n",
       "      <td>1</td>\n",
       "      <td>0</td>\n",
       "      <td>0</td>\n",
       "      <td>0</td>\n",
       "      <td>Laborers</td>\n",
       "      <td>1.0</td>\n",
       "      <td>42</td>\n",
       "      <td>8</td>\n",
       "    </tr>\n",
       "    <tr>\n",
       "      <th>4</th>\n",
       "      <td>5008893</td>\n",
       "      <td>0</td>\n",
       "      <td>37</td>\n",
       "      <td>0</td>\n",
       "      <td>0.000000</td>\n",
       "      <td>0</td>\n",
       "      <td>0</td>\n",
       "      <td>N</td>\n",
       "      <td>Y</td>\n",
       "      <td>0</td>\n",
       "      <td>...</td>\n",
       "      <td>Single / not married</td>\n",
       "      <td>Rented apartment</td>\n",
       "      <td>1</td>\n",
       "      <td>0</td>\n",
       "      <td>0</td>\n",
       "      <td>0</td>\n",
       "      <td>Laborers</td>\n",
       "      <td>1.0</td>\n",
       "      <td>42</td>\n",
       "      <td>8</td>\n",
       "    </tr>\n",
       "  </tbody>\n",
       "</table>\n",
       "<p>5 rows × 23 columns</p>\n",
       "</div>"
      ],
      "text/plain": [
       "        id  is_delinquent  length_of_credit  number_of_delinquent_months  \\\n",
       "0  5008834              0                45                            5   \n",
       "1  5008839              0                14                           10   \n",
       "2  5008861              1                 4                            3   \n",
       "3  5008891              0                 8                            1   \n",
       "4  5008893              0                37                            0   \n",
       "\n",
       "   average_delinquency_rate  6mo_delinquency  12mo_delinquency flag_own_car  \\\n",
       "0                  0.111111                0                 0            N   \n",
       "1                  0.714286                1                 1            N   \n",
       "2                  0.750000                1                 1            Y   \n",
       "3                  0.125000                0                 1            N   \n",
       "4                  0.000000                0                 0            N   \n",
       "\n",
       "  flag_own_realty  cnt_children  ...    name_family_status  name_housing_type  \\\n",
       "0               Y             1  ...  Single / not married  House / apartment   \n",
       "1               Y             1  ...               Married  House / apartment   \n",
       "2               Y             2  ...               Married  House / apartment   \n",
       "3               Y             0  ...  Single / not married   Rented apartment   \n",
       "4               Y             0  ...  Single / not married   Rented apartment   \n",
       "\n",
       "  flag_mobil flag_work_phone flag_phone  flag_email  occupation_type  \\\n",
       "0          1               0          0           0          missing   \n",
       "1          1               0          0           0         Managers   \n",
       "2          1               0          0           0         Laborers   \n",
       "3          1               0          0           0         Laborers   \n",
       "4          1               0          0           0         Laborers   \n",
       "\n",
       "   cnt_fam_members  age years_employed  \n",
       "0              2.0   30              4  \n",
       "1              3.0   32              5  \n",
       "2              4.0   43              8  \n",
       "3              1.0   42              8  \n",
       "4              1.0   42              8  \n",
       "\n",
       "[5 rows x 23 columns]"
      ]
     },
     "execution_count": 9,
     "metadata": {},
     "output_type": "execute_result"
    }
   ],
   "source": [
    "applications_test = pd.read_csv('../data/applications_test.csv')\n",
    "credits_test = pd.read_csv('../data/credits_test.csv')\n",
    "\n",
    "test = credit_approval_data_cleaner(credits_test, applications_test, [6, 12])\n",
    "test.head()"
   ]
  },
  {
   "cell_type": "code",
   "execution_count": 29,
   "id": "94b3554b-a438-4b6f-9efc-63304f34bdd1",
   "metadata": {},
   "outputs": [
    {
     "data": {
      "text/plain": [
       "(5397, 23)"
      ]
     },
     "execution_count": 29,
     "metadata": {},
     "output_type": "execute_result"
    }
   ],
   "source": [
    "test.shape"
   ]
  },
  {
   "cell_type": "code",
   "execution_count": 50,
   "id": "0f97f8f6-67f1-47d1-967f-ecf439821624",
   "metadata": {},
   "outputs": [],
   "source": [
    "X = test.drop(columns=[\n",
    "    'id', 'is_delinquent', 'number_of_delinquent_months', 'average_delinquency_rate', \n",
    "    '6mo_delinquency', '12mo_delinquency'])\n",
    "\n",
    "\n",
    "y = test['6mo_delinquency']"
   ]
  },
  {
   "cell_type": "markdown",
   "id": "0a303482-bcc2-4671-bd74-b1ee3f33d9ea",
   "metadata": {},
   "source": [
    "### Importing and Setting up the Model"
   ]
  },
  {
   "cell_type": "code",
   "execution_count": 51,
   "id": "177819a5-f2b2-4d69-bbe7-35bc864da8b7",
   "metadata": {},
   "outputs": [],
   "source": [
    "with open('../data/adaboost_model.pkl', 'rb') as f:\n",
    "    model = pickle.load(f)"
   ]
  },
  {
   "cell_type": "code",
   "execution_count": 53,
   "id": "b9b70384-f99d-49f0-86b4-d026c35422a3",
   "metadata": {},
   "outputs": [],
   "source": [
    "with open('../data/ct.pkl', 'rb') as f:\n",
    "    ct = pickle.load(f)"
   ]
  },
  {
   "cell_type": "markdown",
   "id": "d229fc31-7590-41c3-b8ab-6e94eebb95b0",
   "metadata": {},
   "source": [
    "## Model Evaluation"
   ]
  },
  {
   "cell_type": "markdown",
   "id": "8d5b1282-4cb8-4c58-98f5-9730b433a9f3",
   "metadata": {},
   "source": [
    "#### Importing and cleaning test data"
   ]
  },
  {
   "cell_type": "code",
   "execution_count": 54,
   "id": "59d97692-312b-4835-afc5-0fdf9a8e34fe",
   "metadata": {},
   "outputs": [],
   "source": [
    "X_test = test.drop(columns=[\n",
    "    'id', 'is_delinquent', 'number_of_delinquent_months', 'average_delinquency_rate', \n",
    "    '6mo_delinquency', '12mo_delinquency'])\n",
    "\n",
    "y_test = test['6mo_delinquency']"
   ]
  },
  {
   "cell_type": "code",
   "execution_count": 55,
   "id": "9e21e8ac-9dc0-4f49-8a72-d95f96bc6330",
   "metadata": {},
   "outputs": [
    {
     "data": {
      "text/plain": [
       "0    0.53363\n",
       "1    0.46637\n",
       "Name: 6mo_delinquency, dtype: float64"
      ]
     },
     "execution_count": 55,
     "metadata": {},
     "output_type": "execute_result"
    }
   ],
   "source": [
    "y_test.value_counts(normalize=True)"
   ]
  },
  {
   "cell_type": "code",
   "execution_count": 56,
   "id": "851d02e5-784f-44e3-9b15-319a9bfa75c7",
   "metadata": {},
   "outputs": [],
   "source": [
    "X_test_ct = ct.transform(X_test)"
   ]
  },
  {
   "cell_type": "code",
   "execution_count": 57,
   "id": "0010285c-45c7-442e-bbe6-2ab879a2994c",
   "metadata": {},
   "outputs": [
    {
     "name": "stdout",
     "output_type": "stream",
     "text": [
      "Test set Accuracy: 0.8037798777098388\n",
      "Test set AUC: 0.8721682144749039\n",
      "\n",
      "\n",
      "              precision    recall  f1-score   support\n",
      "\n",
      "           0       0.81      0.82      0.82      2880\n",
      "           1       0.79      0.79      0.79      2517\n",
      "\n",
      "    accuracy                           0.80      5397\n",
      "   macro avg       0.80      0.80      0.80      5397\n",
      "weighted avg       0.80      0.80      0.80      5397\n",
      "\n",
      "\n",
      "\n"
     ]
    }
   ],
   "source": [
    "print('Test set Accuracy:', model.score(X_test_ct, y_test))\n",
    "print(f\"Test set AUC:\", roc_auc_score(y_test, model.predict_proba(X_test_ct)[:, 1]))\n",
    "\n",
    "\n",
    "print('\\n')\n",
    "print(classification_report(y_test, model.predict(X_test_ct)))\n",
    "print('\\n')"
   ]
  },
  {
   "cell_type": "code",
   "execution_count": 58,
   "id": "57dc09dd-73a9-4190-b9c5-2edb4e5043ea",
   "metadata": {},
   "outputs": [
    {
     "data": {
      "image/png": "[encoded data removed]",
      "text/plain": [
       "<Figure size 1300x600 with 2 Axes>"
      ]
     },
     "metadata": {},
     "output_type": "display_data"
    }
   ],
   "source": [
    "plt.rcParams[\"figure.facecolor\"] = \"#F5F3ED\"\n",
    "\n",
    "fig, ax = plt.subplots(1, 2, figsize=(13, 6))\n",
    "ConfusionMatrixDisplay.from_estimator(model, X_test_ct, y_test, cmap='Blues', colorbar=False, ax=ax[0])\n",
    "RocCurveDisplay.from_estimator(model, X_test_ct, y_test, ax=ax[1])\n",
    "\n",
    "ax[0].set_title('Confusion Matrix')\n",
    "ax[1].set_title('ROC Curve')\n",
    "\n",
    "fig.suptitle('Model Performance', fontsize=18)\n",
    "\n",
    "plt.savefig('../images/model_performance.png', dpi=300);"
   ]
  },
  {
   "cell_type": "markdown",
   "id": "7c52a021-7e4c-4561-8a7b-b9b80b68ca92",
   "metadata": {},
   "source": [
    "### Conclusion: \n",
    "\n",
    "Considering all the data problems we encountered in this project, an accuracy of %80.4, improving the base 27 percentage point is arguably very impressive.  \n",
    "\n",
    "It is reasonable to expect that with a more trustworthy and more consistent dataset, we can achieve much better predictive scores. By incorporating a larger dataset, the model can capture more diverse patterns and gain a better understanding of the underlying relationships in the data. This can lead to even more accurate predictions and higher performance metrics."
   ]
  }
 ],
 "metadata": {
  "kernelspec": {
   "display_name": "Python 3 (ipykernel)",
   "language": "python",
   "name": "python3"
  },
  "language_info": {
   "codemirror_mode": {
    "name": "ipython",
    "version": 3
   },
   "file_extension": ".py",
   "mimetype": "text/x-python",
   "name": "python",
   "nbconvert_exporter": "python",
   "pygments_lexer": "ipython3",
   "version": "3.10.9"
  }
 },
 "nbformat": 4,
 "nbformat_minor": 5
}
